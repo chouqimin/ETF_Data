{
 "cells": [
  {
   "cell_type": "code",
   "execution_count": 16,
   "metadata": {},
   "outputs": [],
   "source": [
    "def Regression_execute(filename,times):\n",
    "    result={}\n",
    "    result[\"R_best\"]=0\n",
    "    for index in range(0,times):\n",
    "        npd_x=create_x('0050_new.csv')\n",
    "        npd_y=create_y('0050_new.csv')\n",
    "\n",
    "        lm=LinearRegression()\n",
    "        lm.fit(npd_x,npd_y)\n",
    "\n",
    "        #模型績效(MSE & R^2)\n",
    "        mse=np.mean((lm.predict(npd_x)-npd_y)**2)\n",
    "        R_squared=lm.score(npd_x,npd_y)\n",
    "        \n",
    "        if(R_squared>result[\"R_best\"]):\n",
    "            result[\"R_best\"]=R_squared\n",
    "            \n",
    "\n",
    "        print(mse)\n",
    "        print(R_squared)"
   ]
  },
  {
   "cell_type": "code",
   "execution_count": 15,
   "metadata": {},
   "outputs": [
    {
     "name": "stdout",
     "output_type": "stream",
     "text": [
      "1.144954267880257e-24\n",
      "1.0\n"
     ]
    }
   ],
   "source": [
    "import numpy as np\n",
    "from sklearn.linear_model import LinearRegression\n",
    "\n",
    "npd_x=create_x('0050_new.csv')\n",
    "npd_y=create_y('0050_new.csv')\n",
    "\n",
    "lm=LinearRegression()\n",
    "lm.fit(npd_x,npd_y)\n",
    "\n",
    "#模型績效(MSE & R^2)\n",
    "mse=np.mean((lm.predict(npd_x)-npd_y)**2)\n",
    "R_squared=lm.score(npd_x,npd_y)\n",
    "\n",
    "print(mse)\n",
    "print(R_squared)"
   ]
  },
  {
   "cell_type": "code",
   "execution_count": 7,
   "metadata": {},
   "outputs": [],
   "source": [
    "def create_x(filename):\n",
    "    npd=np.genfromtxt(filename,delimiter=',')\n",
    "    npd = np.delete(npd, 0, 0).T #刪除第0列再轉置\n",
    "    npd_x_final=np.array(npd[0]).T#挑某幾列當我的x 還要再轉回來\n",
    "    List_01=create01List(filename)\n",
    "    for index in range(0,len(List_01)):\n",
    "        if List_01[index]==1:\n",
    "            x_add = np.array(npd[index])\n",
    "            npd_x_final = np.c_[npd_x_final,x_add.T]\n",
    "    npd_x_final = np.delete(npd_x_final.T, 0, 0).T #把一開始隨便加的刪掉再轉回來\n",
    "    #print(npd_x_final)\n",
    "    return(npd_x_final)\n",
    "\n",
    "def create_y(filename):\n",
    "    npd=np.genfromtxt(filename,delimiter=',')\n",
    "    npd = np.delete(npd, 0, 0).T #刪除第0列再轉置\n",
    "    npd_y_final=np.array(npd[len(npd.T[1])-1]).T#挑某幾列當我的x 還要再轉回來\n",
    "    return(npd_y_final)\n",
    "\n",
    "import random\n",
    "def create01List(filename):\n",
    "    list_random = [ random.random() for i in range(len(np.genfromtxt(filename,delimiter=',')[1]))]\n",
    "    for index in range(0,len(list_random)):\n",
    "        if list_random[index]<=0.5:\n",
    "            list_random[index]=0\n",
    "        else:\n",
    "            list_random[index]=1\n",
    "    return(list_random)"
   ]
  },
  {
   "cell_type": "code",
   "execution_count": 17,
   "metadata": {},
   "outputs": [],
   "source": [
    "#create_y('0050_new.csv')"
   ]
  },
  {
   "cell_type": "code",
   "execution_count": 86,
   "metadata": {},
   "outputs": [
    {
     "name": "stdout",
     "output_type": "stream",
     "text": [
      "0.879104977680034\n",
      "after1:1\n",
      "after2:7\n",
      "[1, 0, 0, 0, 0, 0, 0, 0, 9, 10]\n",
      "[0, 2, 3, 4, 5, 6, 7, 8, 0, 0]\n"
     ]
    }
   ],
   "source": [
    "#交配 try\n",
    "cross_rate=0.4\n",
    "chromosome_1=[1,2,3,4,5,6,7,8,9,10]\n",
    "chromosome_2=[0,0,0,0,0,0,0,0,0,0]\n",
    "random_rate=random.random()\n",
    "print(random_rate)\n",
    "if(random_rate>cross_rate):\n",
    "    point_1=round(random.random()*len(chromosome_1))\n",
    "    point_2=round(random.random()*len(chromosome_2))\n",
    "\n",
    "    while(point_1>=point_2):\n",
    "        point_1=round(random.random()*len(chromosome_1))\n",
    "        point_2=round(random.random()*len(chromosome_2))\n",
    "\n",
    "    print(\"after1:\"+str(point_1))\n",
    "    print(\"after2:\"+str(point_2))\n",
    "\n",
    "    tmp=0\n",
    "    for index in range(point_1,point_2+1):\n",
    "        tmp=chromosome_1[index]\n",
    "        chromosome_1[index]=chromosome_2[index]\n",
    "        chromosome_2[index]=tmp\n",
    "\n",
    "    print(chromosome_1)  \n",
    "    print(chromosome_2)\n",
    "\n"
   ]
  },
  {
   "cell_type": "code",
   "execution_count": 83,
   "metadata": {},
   "outputs": [],
   "source": [
    "#交配 FUNCTION\n",
    "def cross(cross_rate,chromosome_1,chromosome_2):\n",
    "    cross_rate=0.4\n",
    "    chromosome_1=[1,2,3,4,5,6,7,8,9,10]\n",
    "    chromosome_2=[0,0,0,0,0,0,0,0,0,0]\n",
    "    random_rate=random.random()\n",
    "    print(random_rate)\n",
    "    if(random_rate>cross_rate):\n",
    "        point_1=round(random.random()*len(chromosome_1))\n",
    "        point_2=round(random.random()*len(chromosome_2))\n",
    "\n",
    "        while(point_1>=point_2):\n",
    "            point_1=round(random.random()*len(chromosome_1))\n",
    "            point_2=round(random.random()*len(chromosome_2))\n",
    "\n",
    "        print(\"after1:\"+str(point_1))\n",
    "        print(\"after2:\"+str(point_2))\n",
    "\n",
    "        tmp=0\n",
    "        for index in range(point_1,point_2+1):\n",
    "            tmp=chromosome_1[index]\n",
    "            chromosome_1[index]=chromosome_2[index]\n",
    "            chromosome_2[index]=tmp\n",
    "\n",
    "        print(chromosome_1)  \n",
    "        print(chromosome_2)"
   ]
  },
  {
   "cell_type": "code",
   "execution_count": 75,
   "metadata": {},
   "outputs": [
    {
     "name": "stdout",
     "output_type": "stream",
     "text": [
      "7\n",
      "2\n",
      "[0, 0, 1, 0, 0, 0, 0, 1, 0, 0]\n"
     ]
    }
   ],
   "source": [
    "#mutation try\\\n",
    "mutation_rate=0.4\n",
    "#chromosome=[1,1,1,1,1,1,1,1,1,1]\n",
    "chromosome=[0,0,0,0,0,0,0,0,0,0]\n",
    "point_1=round(random.random()*len(chromosome))\n",
    "point_2=round(random.random()*len(chromosome))\n",
    "while(point_1==point_2):\n",
    "    point_1=round(random.random()*len(chromosome))\n",
    "    point_2=round(random.random()*len(chromosome))\n",
    "\n",
    "if(chromosome[point_1]==0):\n",
    "    chromosome[point_1]=1\n",
    "else:\n",
    "    chromosome[point_1]=0\n",
    "\n",
    "if(chromosome[point_2]==0):\n",
    "    chromosome[point_2]=1\n",
    "else:\n",
    "    chromosome[point_2]=0\n",
    "\n",
    "\n",
    "print(point_1)\n",
    "print(point_2)\n",
    "print(chromosome)  "
   ]
  },
  {
   "cell_type": "code",
   "execution_count": 70,
   "metadata": {},
   "outputs": [],
   "source": [
    "#mutation fucnition\n",
    "def mutation(mutation_rate,chromosome):\n",
    "    random_rate=random.random()\n",
    "    if(random_rate>cross_rate):\n",
    "        point_1=round(random.random()*len(chromosome))\n",
    "        point_2=round(random.random()*len(chromosome))\n",
    "        while(point_1==point_2):\n",
    "            point_1=round(random.random()*len(chromosome))\n",
    "            point_2=round(random.random()*len(chromosome))\n",
    "\n",
    "        if(chromosome[point_1]==0):\n",
    "            chromosome[point_1]=1\n",
    "        else:\n",
    "            chromosome[point_1]=0\n",
    "\n",
    "        if(chromosome[point_2]==0):\n",
    "            chromosome[point_2]=1\n",
    "        else:\n",
    "            chromosome[point_2]=0\n",
    "        return chromosome\n",
    "    "
   ]
  },
  {
   "cell_type": "code",
   "execution_count": 72,
   "metadata": {},
   "outputs": [
    {
     "name": "stdout",
     "output_type": "stream",
     "text": [
      "[0, 1, 1, 0, 0, 0, 0, 0, 0, 0]\n"
     ]
    }
   ],
   "source": [
    "chromosome=[0,0,0,0,0,0,0,0,0,0]\n",
    "mu=mutation(0.2,chromosome)\n",
    "print(mu)"
   ]
  },
  {
   "cell_type": "code",
   "execution_count": null,
   "metadata": {},
   "outputs": [],
   "source": []
  }
 ],
 "metadata": {
  "kernelspec": {
   "display_name": "Python 3",
   "language": "python",
   "name": "python3"
  },
  "language_info": {
   "codemirror_mode": {
    "name": "ipython",
    "version": 3
   },
   "file_extension": ".py",
   "mimetype": "text/x-python",
   "name": "python",
   "nbconvert_exporter": "python",
   "pygments_lexer": "ipython3",
   "version": "3.6.4"
  }
 },
 "nbformat": 4,
 "nbformat_minor": 2
}
