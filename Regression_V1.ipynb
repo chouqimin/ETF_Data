{
 "cells": [
  {
   "cell_type": "code",
   "execution_count": 1,
   "metadata": {},
   "outputs": [
    {
     "name": "stdout",
     "output_type": "stream",
     "text": [
      "Requirement already satisfied: numpy in c:\\users\\big data\\anaconda3\\lib\\site-packages (1.14.0)\n"
     ]
    }
   ],
   "source": [
    "!pip install numpy"
   ]
  },
  {
   "cell_type": "code",
   "execution_count": 2,
   "metadata": {},
   "outputs": [
    {
     "name": "stdout",
     "output_type": "stream",
     "text": [
      "Collecting sklearn\n",
      "  Downloading https://files.pythonhosted.org/packages/1e/7a/dbb3be0ce9bd5c8b7e3d87328e79063f8b263b2b1bfa4774cb1147bfcd3f/sklearn-0.0.tar.gz\n",
      "Requirement already satisfied: scikit-learn in c:\\users\\big data\\anaconda3\\lib\\site-packages (from sklearn) (0.19.1)\n",
      "Building wheels for collected packages: sklearn\n",
      "  Running setup.py bdist_wheel for sklearn: started\n",
      "  Running setup.py bdist_wheel for sklearn: finished with status 'done'\n",
      "  Stored in directory: C:\\Users\\Big data\\AppData\\Local\\pip\\Cache\\wheels\\76\\03\\bb\\589d421d27431bcd2c6da284d5f2286c8e3b2ea3cf1594c074\n",
      "Successfully built sklearn\n",
      "Installing collected packages: sklearn\n",
      "Successfully installed sklearn-0.0\n"
     ]
    }
   ],
   "source": [
    "!pip install sklearn"
   ]
  },
  {
   "cell_type": "code",
   "execution_count": 29,
   "metadata": {},
   "outputs": [
    {
     "name": "stdout",
     "output_type": "stream",
     "text": [
      "<class 'numpy.ndarray'>\n",
      "2 (1287, 72) float64\n",
      "幾維陣列: 2\n",
      "幾個元素: (1287, 72)\n",
      "資料型別: float64\n",
      "72\n",
      "[[5.0000000e+01 2.0130102e+07 4.6570000e+01 4.7130000e+01 4.6490000e+01\n",
      "  4.6920000e+01 1.6487000e+04 6.4000000e-01 3.5000000e-01           nan\n",
      "            nan           nan           nan           nan           nan\n",
      "            nan           nan           nan           nan           nan\n",
      "            nan           nan           nan           nan           nan\n",
      "            nan           nan           nan           nan           nan\n",
      "            nan           nan           nan           nan           nan\n",
      "            nan           nan           nan           nan           nan\n",
      "            nan           nan           nan           nan           nan\n",
      "            nan           nan           nan           nan           nan\n",
      "            nan           nan           nan           nan           nan\n",
      "            nan           nan           nan           nan 4.6865000e+01\n",
      "            nan           nan           nan           nan           nan\n",
      "            nan           nan           nan           nan           nan\n",
      "            nan           nan]]\n"
     ]
    }
   ],
   "source": [
    "import numpy as np\n",
    "from sklearn.linear_model import LinearRegression\n",
    "npd=np.genfromtxt('0050.csv',delimiter=',')\n",
    "print(type(npd))\n",
    "print(npd.ndim,npd.shape,npd.dtype)\n",
    "print(\"幾維陣列: \" + str(npd.ndim))#幾維陣列\n",
    "print(\"幾個元素: \" + str(npd.shape))#幾個元素\n",
    "print(\"資料型別: \" + str(npd.dtype))#資料型別\n",
    "\n",
    "print(len(npd[1]))\n",
    "print(npd[1:2])\n"
   ]
  },
  {
   "cell_type": "code",
   "execution_count": 30,
   "metadata": {},
   "outputs": [
    {
     "name": "stdout",
     "output_type": "stream",
     "text": [
      "[29 28 34 31 25 29 32 31 24 33 25 31 26 30]\n",
      "[77 62 93 84 59 64 80 75 58 91 51 73 65 84]\n"
     ]
    },
    {
     "ename": "AttributeError",
     "evalue": "module 'numpy' has no attribute 'reshapee'",
     "output_type": "error",
     "traceback": [
      "\u001b[1;31m---------------------------------------------------------------------------\u001b[0m",
      "\u001b[1;31mAttributeError\u001b[0m                            Traceback (most recent call last)",
      "\u001b[1;32m<ipython-input-30-92e36f92d262>\u001b[0m in \u001b[0;36m<module>\u001b[1;34m()\u001b[0m\n\u001b[0;32m     10\u001b[0m \u001b[1;33m\u001b[0m\u001b[0m\n\u001b[0;32m     11\u001b[0m \u001b[1;31m#轉換維度\u001b[0m\u001b[1;33m\u001b[0m\u001b[1;33m\u001b[0m\u001b[0m\n\u001b[1;32m---> 12\u001b[1;33m \u001b[0mtem\u001b[0m\u001b[1;33m=\u001b[0m\u001b[0mnp\u001b[0m\u001b[1;33m.\u001b[0m\u001b[0mreshapee\u001b[0m\u001b[1;33m(\u001b[0m\u001b[0mtem\u001b[0m\u001b[1;33m,\u001b[0m\u001b[1;33m(\u001b[0m\u001b[0mlen\u001b[0m\u001b[1;33m(\u001b[0m\u001b[0mtm\u001b[0m\u001b[1;33m)\u001b[0m\u001b[1;33m,\u001b[0m\u001b[1;36m1\u001b[0m\u001b[1;33m)\u001b[0m\u001b[1;33m)\u001b[0m\u001b[1;31m#1*12->12*1 第一個放要轉的array，第二個為要轉成什麼\u001b[0m\u001b[1;33m\u001b[0m\u001b[0m\n\u001b[0m\u001b[0;32m     13\u001b[0m \u001b[0mteasales\u001b[0m\u001b[1;33m=\u001b[0m\u001b[0mnp\u001b[0m\u001b[1;33m.\u001b[0m\u001b[0mreshape\u001b[0m\u001b[1;33m(\u001b[0m\u001b[0mteasales\u001b[0m\u001b[1;33m,\u001b[0m\u001b[1;33m(\u001b[0m\u001b[0mlen\u001b[0m\u001b[1;33m(\u001b[0m\u001b[0mteasales\u001b[0m\u001b[1;33m)\u001b[0m\u001b[1;33m,\u001b[0m\u001b[1;36m1\u001b[0m\u001b[1;33m)\u001b[0m\u001b[1;33m)\u001b[0m\u001b[1;33m\u001b[0m\u001b[0m\n\u001b[0;32m     14\u001b[0m \u001b[1;33m\u001b[0m\u001b[0m\n",
      "\u001b[1;31mAttributeError\u001b[0m: module 'numpy' has no attribute 'reshapee'"
     ]
    }
   ],
   "source": [
    "# 自己產生x1 & x2 try 多元回歸\n",
    "import numpy as np\n",
    "from sklearn.linear_model import LinearRegression\n",
    "\n",
    "tem=np.array([29,28,34,31,25,29,32,31,24,33,25,31,26,30])\n",
    "tem_1=np.array([[29,28,34,31,25,29,32,31,24,33,25,31,26,30],[29,28,34,31,25,29,32,31,24,33,25,31,26,30]])\n",
    "teasales=np.array([77,62,93,84,59,64,80,75,58,91,51,73,65,84])\n",
    "print(tem)\n",
    "print(teasales)\n",
    "\n",
    "#轉換維度\n",
    "tem=np.reshapee(tem,(len(tm),1))#1*12->12*1 第一個放要轉的array，第二個為要轉成什麼\n",
    "teasales=np.reshape(teasales,(len(teasales),1))\n",
    "\n",
    "#tem_1=np.reshape(tem_1,(len(tem_1[1]),2),order=\"C\")#1*12->12*1 第一個放要轉的array，第二個為要轉成什麼\n",
    "tem_1=tem_1.T\n",
    "\n",
    "\n",
    "#print(tem_1)\n",
    "# print(teasales)\n",
    "\n",
    "lm=LinearRegression()\n",
    "lm.fit(tem_1,teasales)\n",
    "\n",
    "#模型績效\n",
    "mse=np.mean((lm.predict(tem_1)-teasales)**2)\n",
    "R_squared=lm.score(tem_1,teasales)\n",
    "\n",
    "print(mse)\n",
    "print(R_squared)\n"
   ]
  },
  {
   "cell_type": "code",
   "execution_count": 34,
   "metadata": {},
   "outputs": [
    {
     "name": "stdout",
     "output_type": "stream",
     "text": [
      "[[53.23 54.29]\n",
      " [54.07 54.29]\n",
      " [54.2  54.25]\n",
      " ...\n",
      " [82.9  82.9 ]\n",
      " [82.25 82.35]\n",
      " [82.65 83.05]]\n",
      "幾維陣列: 2\n",
      "幾個元素: (912, 1)\n",
      "資料型別: float64\n",
      "0.5116676534457757\n",
      "0.9938201821563829\n"
     ]
    }
   ],
   "source": [
    "import numpy as np\n",
    "from sklearn.linear_model import LinearRegression\n",
    "\n",
    "npd=np.genfromtxt('0050_new.csv',delimiter=',')\n",
    "npd = np.delete(npd, 0, 0).T #刪除第0列再轉置\n",
    "\n",
    "npd_x_init=np.array([npd[2]]).T#挑某幾列當我的x 還要再轉回來\n",
    "x_add = np.array(npd[3])\n",
    "npd_x_final = np.c_[npd_x_init,x_add.T]\n",
    "print(npd_x_final)\n",
    "\n",
    "npd_y=np.array([npd[72]]).T #找y 為了丟進model裡面\n",
    "\n",
    "print(\"幾維陣列: \" + str(npd_x.ndim))#幾維陣列\n",
    "print(\"幾個元素: \" + str(npd_x.shape))#幾個元素\n",
    "print(\"資料型別: \" + str(npd_x.dtype))#資料型別\n",
    "#print(npd_x)\n",
    "\n",
    "\n",
    "lm=LinearRegression()\n",
    "lm.fit(npd_x,npd_y)\n",
    "\n",
    "#模型績效(MSE & R^2)\n",
    "mse=np.mean((lm.predict(npd_x)-npd_y)**2)\n",
    "R_squared=lm.score(npd_x,npd_y)\n",
    "\n",
    "print(mse)\n",
    "print(R_squared)"
   ]
  },
  {
   "cell_type": "code",
   "execution_count": 85,
   "metadata": {},
   "outputs": [
    {
     "name": "stdout",
     "output_type": "stream",
     "text": [
      "[[53.23       54.07       38.41059603 ... 54.19354839 87.93921336\n",
      "  54.16      ]\n",
      " [53.94       54.16       38.41059603 ... 60.         86.28271227\n",
      "  53.85      ]\n",
      " [53.67       53.85       65.16853933 ... 40.         83.01867658\n",
      "  54.11      ]\n",
      " ...\n",
      " [82.2        82.25       53.06122449 ... 19.40298507 72.27967287\n",
      "  82.1       ]\n",
      " [81.8        82.1        48.         ... 14.92537313 67.6130062\n",
      "  82.85      ]\n",
      " [82.65       82.85       36.58536585 ... 37.31343284 65.07967287\n",
      "  82.95      ]]\n"
     ]
    }
   ],
   "source": [
    "def create_x(filename):\n",
    "    npd=np.genfromtxt(filename,delimiter=',')\n",
    "    npd = np.delete(npd, 0, 0).T #刪除第0列再轉置\n",
    "    npd_x_final=np.array(npd[0]).T#挑某幾列當我的x 還要再轉回來\n",
    "    List_01=create01List(filename)\n",
    "    for index in range(0,len(List_01)):\n",
    "        if List_01[index]==1:\n",
    "            x_add = np.array(npd[index])\n",
    "            npd_x_final = np.c_[npd_x_final,x_add.T]\n",
    "    npd_x_final = np.delete(npd_x_final.T, 0, 0).T #把一開始隨便加的刪掉再轉回來\n",
    "    #print(npd_x_final)\n",
    "\n",
    "    return(npd_x_final)"
   ]
  },
  {
   "cell_type": "code",
   "execution_count": 77,
   "metadata": {},
   "outputs": [
    {
     "name": "stdout",
     "output_type": "stream",
     "text": [
      "[[5.0000000e+01 2.0140428e+07]\n",
      " [5.0000000e+01 2.0140429e+07]\n",
      " [5.0000000e+01 2.0140430e+07]\n",
      " ...\n",
      " [5.0000000e+01 2.0180328e+07]\n",
      " [5.0000000e+01 2.0180329e+07]\n",
      " [5.0000000e+01 2.0180330e+07]]\n",
      "[[50.   54.29]\n",
      " [50.   54.29]\n",
      " [50.   54.25]\n",
      " ...\n",
      " [50.   82.9 ]\n",
      " [50.   82.35]\n",
      " [50.   83.05]]\n",
      "[[  50. 8482.]\n",
      " [  50. 6518.]\n",
      " [  50. 5598.]\n",
      " ...\n",
      " [  50. 4161.]\n",
      " [  50. 4099.]\n",
      " [  50. 4994.]]\n",
      "[[50.         38.41059603]\n",
      " [50.         38.41059603]\n",
      " [50.         65.16853933]\n",
      " ...\n",
      " [50.         53.06122449]\n",
      " [50.         48.        ]\n",
      " [50.         36.58536585]]\n",
      "[[50.         53.79310345]\n",
      " [50.         52.31316726]\n",
      " [50.         47.88273616]\n",
      " ...\n",
      " [50.         34.67741935]\n",
      " [50.         24.32432432]\n",
      " [50.         37.16814159]]\n",
      "[[50.         56.71641791]\n",
      " [50.         56.60074826]\n",
      " [50.         55.49102429]\n",
      " ...\n",
      " [50.         53.97078353]\n",
      " [50.         53.58470526]\n",
      " [50.         55.62051555]]\n",
      "[[50.         54.15583333]\n",
      " [50.         54.17083333]\n",
      " [50.         54.1675    ]\n",
      " ...\n",
      " [50.         83.53333333]\n",
      " [50.         83.29583333]\n",
      " [50.         83.175     ]]\n",
      "[[50.         53.56115385]\n",
      " [50.         53.65807692]\n",
      " [50.         53.73807692]\n",
      " ...\n",
      " [50.         82.64230769]\n",
      " [50.         82.73461538]\n",
      " [50.         82.78653846]]\n",
      "[[50.         51.48066667]\n",
      " [50.         51.50608333]\n",
      " [50.         51.52891667]\n",
      " ...\n",
      " [50.         81.84033333]\n",
      " [50.         81.87133333]\n",
      " [50.         81.90658333]]\n",
      "[[50.         50.1865    ]\n",
      " [50.         50.203     ]\n",
      " [50.         50.21929167]\n",
      " ...\n",
      " [50.         79.417125  ]\n",
      " [50.         79.46158333]\n",
      " [50.         79.50858333]]\n",
      "[[50.         53.98      ]\n",
      " [50.         54.03333333]\n",
      " [50.         53.99      ]\n",
      " ...\n",
      " [50.         82.625     ]\n",
      " [50.         82.36666667]\n",
      " [50.         82.5       ]]\n",
      "[[50.         53.02608743]\n",
      " [50.         53.08704372]\n",
      " [50.         53.13645902]\n",
      " ...\n",
      " [50.         82.85754645]\n",
      " [50.         82.84312568]\n",
      " [50.         82.85181967]]\n",
      "[[50.         52.51218559]\n",
      " [50.         52.56161172]\n",
      " [50.         52.60347009]\n",
      " ...\n",
      " [50.         82.37758974]\n",
      " [50.         82.3822906 ]\n",
      " [50.         82.40349451]]\n",
      "[[50.         52.14313223]\n",
      " [50.         52.18741873]\n",
      " [50.         52.22616116]\n",
      " ...\n",
      " [50.         82.193     ]\n",
      " [50.         82.19729201]\n",
      " [50.         82.21346832]]\n",
      "[[50.         50.64064408]\n",
      " [50.         50.67048594]\n",
      " [50.         50.69811141]\n",
      " ...\n",
      " [50.         80.17599025]\n",
      " [50.         80.20615947]\n",
      " [50.         80.24099623]]\n",
      "[[50.         53.62628512]\n",
      " [50.         54.04781426]\n",
      " [50.         54.15439071]\n",
      " ...\n",
      " [50.         83.33993311]\n",
      " [50.         82.30449666]\n",
      " [50.         82.11022483]]\n",
      "[[50.         53.67217166]\n",
      " [50.         54.03021717]\n",
      " [50.         54.14702172]\n",
      " ...\n",
      " [50.         83.28047956]\n",
      " [50.         82.35304796]\n",
      " [50.         82.1253048 ]]\n",
      "[[50.         53.76281126]\n",
      " [50.         54.00856225]\n",
      " [50.         54.12971245]\n",
      " ...\n",
      " [50.         83.16806881]\n",
      " [50.         82.43361376]\n",
      " [50.         82.16672275]]\n",
      "[[50.         53.80750043]\n",
      " [50.         54.00437511]\n",
      " [50.         54.12109378]\n",
      " ...\n",
      " [50.         83.11755043]\n",
      " [50.         82.46688761]\n",
      " [50.         82.1917219 ]]\n",
      "[[50.         53.85164373]\n",
      " [50.         54.00449312]\n",
      " [50.         54.11334794]\n",
      " ...\n",
      " [50.         83.0725315 ]\n",
      " [50.         82.49675945]\n",
      " [50.         82.21902784]]\n",
      "[[50.         53.97857166]\n",
      " [50.         54.02885725]\n",
      " [50.         54.10098576]\n",
      " ...\n",
      " [50.         82.98448082]\n",
      " [50.         82.58051637]\n",
      " [50.         82.31623237]]\n",
      "[[50.         54.05427271]\n",
      " [50.         54.06134999]\n",
      " [50.         54.1057425 ]\n",
      " ...\n",
      " [50.         82.98048712]\n",
      " [50.         82.65176792]\n",
      " [50.         82.40347235]]\n",
      "[[50.         54.08703368]\n",
      " [50.         54.08022021]\n",
      " [50.         54.11213212]\n",
      " ...\n",
      " [50.         82.99954218]\n",
      " [50.         82.69972531]\n",
      " [50.         82.45983518]]\n",
      "[[50.         54.11427358]\n",
      " [50.         54.09877783]\n",
      " [50.         54.12020559]\n",
      " ...\n",
      " [50.         83.03350622]\n",
      " [50.         82.75927904]\n",
      " [50.         82.52853138]]\n",
      "[[50.         53.80560495]\n",
      " [50.         53.83204446]\n",
      " [50.         53.86484001]\n",
      " ...\n",
      " [50.         83.07320437]\n",
      " [50.         82.99088393]\n",
      " [50.         82.90179554]]\n",
      "[[50.     53.915 ]\n",
      " [50.     54.1375]\n",
      " [50.     53.905 ]\n",
      " ...\n",
      " [50.     82.4   ]\n",
      " [50.     82.0875]\n",
      " [50.     82.85  ]]\n",
      "[[50.         58.65578433]\n",
      " [50.         57.31557815]\n",
      " [50.         50.25675462]\n",
      " ...\n",
      " [50.         31.1043186 ]\n",
      " [50.         25.36357786]\n",
      " [50.         28.25396825]]\n",
      "[[50.         70.78384536]\n",
      " [50.         67.3894381 ]\n",
      " [50.         62.67874488]\n",
      " ...\n",
      " [50.         46.841     ]\n",
      " [50.         39.56474268]\n",
      " [50.         34.47108462]]\n",
      "[[50.         54.19354839]\n",
      " [50.         60.        ]\n",
      " [50.         40.        ]\n",
      " ...\n",
      " [50.         19.40298507]\n",
      " [50.         14.92537313]\n",
      " [50.         37.31343284]]\n",
      "[[50.         86.24998862]\n",
      " [50.         83.37204086]\n",
      " [50.         79.81587949]\n",
      " ...\n",
      " [50.         74.41975932]\n",
      " [50.         69.2899379 ]\n",
      " [50.         63.84403364]]\n",
      "[[50.         78.86904762]\n",
      " [50.         80.25477707]\n",
      " [50.         61.08786611]\n",
      " ...\n",
      " [50.         40.        ]\n",
      " [50.         36.66666667]\n",
      " [50.         53.33333333]]\n",
      "[[50.         87.93921336]\n",
      " [50.         86.28271227]\n",
      " [50.         83.01867658]\n",
      " ...\n",
      " [50.         72.27967287]\n",
      " [50.         67.6130062 ]\n",
      " [50.         65.07967287]]\n",
      "[[50.         87.93921336]\n",
      " [50.         86.28271227]\n",
      " [50.         83.01867658]\n",
      " ...\n",
      " [50.         72.27967287]\n",
      " [50.         67.6130062 ]\n",
      " [50.         65.07967287]]\n"
     ]
    }
   ],
   "source": [
    "a=create_x(\"0050_new.csv\")\n",
    "print(a)"
   ]
  },
  {
   "cell_type": "code",
   "execution_count": 73,
   "metadata": {},
   "outputs": [],
   "source": [
    "import random\n",
    "def create01List(filename):\n",
    "    list_random = [ random.random() for i in range(len(np.genfromtxt(filename,delimiter=',')[1]))]\n",
    "    for index in range(0,len(list_random)):\n",
    "        if list_random[index]<=0.5:\n",
    "            list_random[index]=0\n",
    "        else:\n",
    "            list_random[index]=1\n",
    "    return(list_random)"
   ]
  },
  {
   "cell_type": "code",
   "execution_count": 56,
   "metadata": {},
   "outputs": [
    {
     "name": "stdout",
     "output_type": "stream",
     "text": [
      "[1, 1, 1, 1, 1, 0, 0, 1, 0, 0, 1, 1, 0, 0, 1, 1, 1, 1, 1, 0, 0, 0, 1, 0, 0, 0, 0, 0, 0, 1, 0, 0, 0, 0, 1, 1, 1, 0, 0, 0, 0, 1, 0, 0, 1, 1, 0, 0, 1, 0, 0, 1, 1, 0, 0, 1, 1, 0, 0, 0, 0, 1, 0, 0, 0, 1, 1, 1, 0, 0, 0, 1, 0]\n"
     ]
    }
   ],
   "source": [
    "#print(len(len(np.genfromtxt(\"0050_new.csv\",delimiter=',')))\n",
    "print(create01List(\"0050_new.csv\"))"
   ]
  },
  {
   "cell_type": "code",
   "execution_count": 57,
   "metadata": {},
   "outputs": [
    {
     "name": "stdout",
     "output_type": "stream",
     "text": [
      "73\n"
     ]
    }
   ],
   "source": [
    "print((len(np.genfromtxt(\"0050_new.csv\",delimiter=',')[1])))"
   ]
  },
  {
   "cell_type": "code",
   "execution_count": null,
   "metadata": {},
   "outputs": [],
   "source": []
  },
  {
   "cell_type": "code",
   "execution_count": 111,
   "metadata": {},
   "outputs": [
    {
     "data": {
      "text/plain": [
       "[(1, 2), (1, 3), (2, 3)]"
      ]
     },
     "execution_count": 111,
     "metadata": {},
     "output_type": "execute_result"
    }
   ],
   "source": [
    "\n",
    "from itertools import combinations, permutations\n",
    "npd=np.genfromtxt('0050_new.csv',delimiter=',')\n",
    "range(0,len(npd[1])+1)\n",
    "#permutations([1, 2, 3], 2)\n",
    "list(combinations([1, 2, 3], 2))"
   ]
  },
  {
   "cell_type": "code",
   "execution_count": 116,
   "metadata": {},
   "outputs": [
    {
     "name": "stdout",
     "output_type": "stream",
     "text": [
      "[0, 1, 2, 3, 4, 5, 6, 7, 8, 9, 10, 11, 12, 13, 14, 15, 16, 17, 18, 19, 20, 21, 22, 23, 24, 25, 26, 27, 28, 29, 30, 31, 32, 33, 34, 35, 36, 37, 38, 39, 40, 41, 42, 43, 44, 45, 46, 47, 48, 49, 50, 51, 52, 53, 54, 55, 56, 57, 58, 59, 60, 61, 62, 63, 64, 65, 66, 67, 68, 69, 70, 71, 72]\n"
     ]
    }
   ],
   "source": [
    "#產生c73取2的所有組合\n",
    "tmp=[]\n",
    "for index in range(0,len(npd[1])):\n",
    "    tmp.append(index)\n",
    "print(tmp)\n",
    "combination_x=list(combinations(tmp, 2))\n",
    "    "
   ]
  },
  {
   "cell_type": "code",
   "execution_count": 119,
   "metadata": {},
   "outputs": [
    {
     "name": "stdout",
     "output_type": "stream",
     "text": [
      "[0, 1, 2, 3, 4, 5, 6, 7, 8, 9, 10, 11, 12, 13, 14, 15, 16, 17, 18, 19, 20, 21, 22, 23, 24, 25, 26, 27, 28, 29, 30, 31, 32, 33, 34, 35, 36, 37, 38, 39, 40, 41, 42, 43, 44, 45, 46, 47, 48, 49, 50, 51, 52, 53, 54, 55, 56, 57, 58, 59, 60, 61, 62, 63, 64, 65, 66, 67, 68, 69, 70, 71, 72]\n"
     ]
    },
    {
     "data": {
      "text/plain": [
       "62196"
      ]
     },
     "execution_count": 119,
     "metadata": {},
     "output_type": "execute_result"
    }
   ],
   "source": [
    "#產生c73取2的所有組合\n",
    "\n",
    "C_get=3 #要取幾個?\n",
    "filename='0050_new.csv'\n",
    "npd=np.genfromtxt(filename,delimiter=',')\n",
    "tmp=[]\n",
    "for index in range(0,len(npd[1])):\n",
    "    tmp.append(index)\n",
    "print(tmp)\n",
    "combination_x=list(combinations(tmp, C_get))\n",
    "len(combination_x)"
   ]
  },
  {
   "cell_type": "code",
   "execution_count": 43,
   "metadata": {},
   "outputs": [
    {
     "name": "stdout",
     "output_type": "stream",
     "text": [
      "[1, 1, 0, 0, 1, 1, 0, 0, 0, 0, 1, 0, 1, 1, 0, 1, 1, 0, 1, 0, 1, 0, 0, 1, 1, 1, 1, 0, 0, 1, 1, 0, 1, 1, 0, 1, 0, 0, 0, 1, 1, 0, 0, 1, 0, 0, 1, 1, 1, 1, 1, 1, 0, 0, 0, 0, 0, 1, 1, 1, 1, 1, 0, 1, 0, 1, 0, 0, 1, 1, 1, 1, 0]\n"
     ]
    }
   ],
   "source": []
  },
  {
   "cell_type": "code",
   "execution_count": null,
   "metadata": {},
   "outputs": [],
   "source": []
  }
 ],
 "metadata": {
  "kernelspec": {
   "display_name": "Python 3",
   "language": "python",
   "name": "python3"
  },
  "language_info": {
   "codemirror_mode": {
    "name": "ipython",
    "version": 3
   },
   "file_extension": ".py",
   "mimetype": "text/x-python",
   "name": "python",
   "nbconvert_exporter": "python",
   "pygments_lexer": "ipython3",
   "version": "3.6.4"
  }
 },
 "nbformat": 4,
 "nbformat_minor": 2
}
