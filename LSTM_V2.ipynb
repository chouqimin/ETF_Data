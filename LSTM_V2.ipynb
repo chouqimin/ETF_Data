{
 "cells": [
  {
   "cell_type": "code",
   "execution_count": 44,
   "metadata": {},
   "outputs": [],
   "source": [
    "#import tensorflow as tf\n",
    "import numpy as np\n",
    "import pandas as pd\n",
    "from sklearn import preprocessing\n",
    "from keras.models import Sequential, load_model\n",
    "from keras.layers.core import Dense, Dropout\n",
    "from keras.layers.recurrent import LSTM\n",
    "\n",
    "def normalize(df):#標準化Ｋ\n",
    "    newdf= df.copy()\n",
    "    min_max_scaler = preprocessing.MinMaxScaler()\n",
    "    for feature in df.columns:\n",
    "        newdf[feature] = min_max_scaler.fit_transform(df[feature].values.reshape(-1,1))\n",
    "    return newdf\n",
    "\n",
    "def data_helper(df, time_frame):\n",
    "    # Feature number\n",
    "    number_features = len(df.columns)\n",
    "    datavalue = df.as_matrix() #66個x(column) * 918個時間(row)，(每一個時有66個x) , [[66x],[66x],....[66x]]\n",
    "    x_result = []    \n",
    "    y_result = []\n",
    "    for index in range(len(datavalue)-TIME_STEPS):\n",
    "        x_result.append(datavalue[index: index + time_frame])\n",
    "        y_result.append(datavalue[index + time_frame][4])  # test for closeprice 加time_step後的closeprice，如果要預測其他的y要改這裡\n",
    "    # 每五天(time_step)當一個x \n",
    "    #[ [[1st 66x],[2nd 66x],[3rd 66x],[4th 66x],[5th 66x]] , [[2nd 66x],[3rd 66x],[4th 66x],[5th 66x],[6th 66x]] ,....]\n",
    "    x_result = np.array(x_result)\n",
    "    y_result = np.array(y_result)#第time_step+1的closeprice當做y\n",
    "\n",
    "    number_train = round(TRAIN_RATE * x_result.shape[0])\n",
    "    #一次切二個list(x_train & x_test),x_train為0~number_train ->[:number_train],x_text為number_train~final ->[number_train:]\n",
    "    x_train, x_test = x_result[:int(number_train)], x_result[int(number_train) :]\n",
    "    y_train, y_test = y_result[:int(number_train)], y_result[int(number_train) :]\n",
    "    \n",
    "    x_train = np.reshape(x_train, (x_train.shape[0], x_train.shape[1], number_features))\n",
    "    x_test = np.reshape(x_test, (x_test.shape[0], x_test.shape[1], number_features))\n",
    "    return [x_train, y_train, x_test, y_test]\n",
    "\n",
    "def build_model(input_length, input_dim):\n",
    "    model = Sequential()\n",
    "    for _ in range(LAYERS_NUM):\n",
    "        model.add(LSTM(CELL_SIZE, input_shape=(input_length, input_dim), return_sequences=True))\n",
    "        model.add(Dropout(DROPOUT_RATE))\n",
    "    model.add(LSTM(CELL_SIZE, input_shape=(input_length, input_dim), return_sequences=False))\n",
    "    model.add(Dropout(DROPOUT_RATE))\n",
    "    model.add(Dense(16,kernel_initializer=\"uniform\",activation='relu'))\n",
    "    model.add(Dense(1,kernel_initializer=\"uniform\",activation='linear')) # CELL_SIZE 5, output dim\n",
    "    model.compile(loss='mse',optimizer='adam', metrics=['accuracy'])\n",
    "    return model\n",
    "\n",
    "def denormalize(df, norm_value):\n",
    "    original_value = df['ClosePrice'].values.reshape(-1,1)\n",
    "    norm_value = norm_value.reshape(-1,1)\n",
    "\n",
    "    min_max_scaler = preprocessing.MinMaxScaler()\n",
    "    min_max_scaler.fit_transform(original_value)\n",
    "    denorm_value = min_max_scaler.inverse_transform(norm_value)\n",
    "    return denorm_value\n",
    "\n"
   ]
  },
  {
   "cell_type": "code",
   "execution_count": 48,
   "metadata": {},
   "outputs": [],
   "source": [
    "def LSTM_model(chromosom):\n",
    "    # Load files\n",
    "    foxconndf= pd.read_csv('0051.csv', index_col=0 )\n",
    "    foxconndf.dropna(how='any',inplace=True)#把date那欄刪掉?\n",
    "    FEATURE_NUM = len(foxconndf.columns)\n",
    "\n",
    "    TIME_STEPS = chromosom[0] #要用幾天來預測\n",
    "    TRAIN_RATE = chromosom[1]#train 資料要用多少%\n",
    "    CELL_SIZE = chromosom[2]\n",
    "    LAYERS_NUM = chromosom[3] #隱藏層數? 還是total層數??\n",
    "    BATCH_SIZE = chromosom[4]\n",
    "    EPOCHS_NUM = chromosom[5] #迭代數\n",
    "    DROPOUT_RATE = chromosom[6] #每層要drop多少%\n",
    "    activation_1=chromosom[7]\n",
    "    activation_2=chromosom[8]\n",
    "    validation_rate=chromosom[9]\n",
    "\n",
    "    foxconndf_norm= normalize(foxconndf)\n",
    "\n",
    "    X_train, y_train, X_test, y_test = data_helper(foxconndf_norm, TIME_STEPS)\n",
    "\n",
    "    data_helper(foxconndf_norm, TIME_STEPS)\n",
    "\n",
    "    model = build_model( TIME_STEPS, FEATURE_NUM )\n",
    "    model.fit( X_train, y_train, batch_size=BATCH_SIZE, epochs=EPOCHS_NUM, validation_split=0.1, verbose=1)\n",
    "    train_history=model.fit( X_train, y_train, batch_size=BATCH_SIZE, epochs=EPOCHS_NUM, validation_split=0.1, verbose=1)\n",
    "\n",
    "    pred = model.predict(X_test) # model.predict(data set)\n",
    "\n",
    "    denorm_pred = denormalize(foxconndf, pred)\n",
    "    denorm_ytest = denormalize(foxconndf, y_test)\n",
    "    # print(model.summary()) # model summary\n",
    "    # print(model.get_config()) # model configuration\n",
    "    model.save('model_test_closeonly.h1')\n",
    "    my_model = load_model('model_test_closeonly.h1')\n",
    "    score = model.evaluate(X_train, y_train, batch_size=BATCH_SIZE)\n",
    "\n",
    "    return score[0]\n",
    "\n"
   ]
  },
  {
   "cell_type": "code",
   "execution_count": 46,
   "metadata": {},
   "outputs": [
    {
     "name": "stdout",
     "output_type": "stream",
     "text": [
      "Train on 716 samples, validate on 80 samples\n",
      "Epoch 1/10\n",
      "716/716 [==============================] - 7s 10ms/step - loss: 0.4604 - acc: 0.0014 - val_loss: 0.1065 - val_acc: 0.0000e+00\n",
      "Epoch 2/10\n",
      "716/716 [==============================] - 0s 243us/step - loss: 0.4289 - acc: 0.0014 - val_loss: 0.0786 - val_acc: 0.0000e+00\n",
      "Epoch 3/10\n",
      "716/716 [==============================] - 0s 236us/step - loss: 0.3140 - acc: 0.0014 - val_loss: 0.0082 - val_acc: 0.0000e+00\n",
      "Epoch 4/10\n",
      "716/716 [==============================] - 0s 243us/step - loss: 0.0938 - acc: 0.0014 - val_loss: 0.1827 - val_acc: 0.0000e+00\n",
      "Epoch 5/10\n",
      "716/716 [==============================] - 0s 262us/step - loss: 0.0705 - acc: 0.0014 - val_loss: 0.1541 - val_acc: 0.0000e+00\n",
      "Epoch 6/10\n",
      "716/716 [==============================] - 0s 249us/step - loss: 0.0468 - acc: 0.0014 - val_loss: 0.0656 - val_acc: 0.0000e+00\n",
      "Epoch 7/10\n",
      "716/716 [==============================] - 0s 245us/step - loss: 0.0498 - acc: 0.0014 - val_loss: 0.0927 - val_acc: 0.0000e+00\n",
      "Epoch 8/10\n",
      "716/716 [==============================] - 0s 264us/step - loss: 0.0461 - acc: 0.0014 - val_loss: 0.1242 - val_acc: 0.0000e+00\n",
      "Epoch 9/10\n",
      "716/716 [==============================] - 0s 250us/step - loss: 0.0469 - acc: 0.0014 - val_loss: 0.0985 - val_acc: 0.0000e+00\n",
      "Epoch 10/10\n",
      "716/716 [==============================] - 0s 233us/step - loss: 0.0460 - acc: 0.0014 - val_loss: 0.1042 - val_acc: 0.0000e+00\n",
      "Train on 716 samples, validate on 80 samples\n",
      "Epoch 1/10\n",
      "716/716 [==============================] - 0s 232us/step - loss: 0.0448 - acc: 0.0014 - val_loss: 0.0964 - val_acc: 0.0000e+00\n",
      "Epoch 2/10\n",
      "716/716 [==============================] - 0s 233us/step - loss: 0.0433 - acc: 0.0014 - val_loss: 0.0961 - val_acc: 0.0000e+00\n",
      "Epoch 3/10\n",
      "716/716 [==============================] - 0s 240us/step - loss: 0.0397 - acc: 0.0014 - val_loss: 0.0430 - val_acc: 0.0000e+00\n",
      "Epoch 4/10\n",
      "716/716 [==============================] - 0s 231us/step - loss: 0.0232 - acc: 0.0014 - val_loss: 0.0154 - val_acc: 0.0000e+00\n",
      "Epoch 5/10\n",
      "716/716 [==============================] - 0s 224us/step - loss: 0.0131 - acc: 0.0028 - val_loss: 0.0035 - val_acc: 0.0000e+00\n",
      "Epoch 6/10\n",
      "716/716 [==============================] - 0s 233us/step - loss: 0.0079 - acc: 0.0028 - val_loss: 0.0032 - val_acc: 0.0000e+00\n",
      "Epoch 7/10\n",
      "716/716 [==============================] - 0s 238us/step - loss: 0.0055 - acc: 0.0028 - val_loss: 0.0027 - val_acc: 0.0000e+00\n",
      "Epoch 8/10\n",
      "716/716 [==============================] - 0s 241us/step - loss: 0.0055 - acc: 0.0028 - val_loss: 0.0025 - val_acc: 0.0000e+00\n",
      "Epoch 9/10\n",
      "716/716 [==============================] - 0s 229us/step - loss: 0.0060 - acc: 0.0028 - val_loss: 0.0023 - val_acc: 0.0000e+00\n",
      "Epoch 10/10\n",
      "716/716 [==============================] - 0s 234us/step - loss: 0.0047 - acc: 0.0028 - val_loss: 0.0021 - val_acc: 0.0000e+00\n",
      "796/796 [==============================] - 0s 70us/step\n"
     ]
    },
    {
     "data": {
      "text/plain": [
       "0.0024558565978325866"
      ]
     },
     "execution_count": 46,
     "metadata": {},
     "output_type": "execute_result"
    }
   ],
   "source": [
    "chromosom=[5, 0.8, 50, 3, 100, 10, 0.2, 'relu', 'linear', 0.3]\n",
    "LSTM_model(chromosom)"
   ]
  },
  {
   "cell_type": "code",
   "execution_count": 47,
   "metadata": {},
   "outputs": [
    {
     "data": {
      "image/png": "[encoded data removed]",
      "text/plain": [
       "<matplotlib.figure.Figure at 0x2329b7135c0>"
      ]
     },
     "metadata": {},
     "output_type": "display_data"
    }
   ],
   "source": [
    "import matplotlib.pyplot as plt\n",
    "#%matplotlib inline  \n",
    "plt.plot(denorm_pred,color='red', label='Prediction')\n",
    "plt.plot(denorm_ytest,color='blue', label='Answer')\n",
    "plt.legend(loc='best')\n",
    "plt.show()"
   ]
  },
  {
   "cell_type": "code",
   "execution_count": null,
   "metadata": {},
   "outputs": [],
   "source": []
  },
  {
   "cell_type": "code",
   "execution_count": 11,
   "metadata": {},
   "outputs": [
    {
     "data": {
      "text/plain": [
       "0.0016825175083630798"
      ]
     },
     "execution_count": 11,
     "metadata": {},
     "output_type": "execute_result"
    }
   ],
   "source": [
    "score[0]#LOSS 望小"
   ]
  },
  {
   "cell_type": "code",
   "execution_count": 12,
   "metadata": {},
   "outputs": [
    {
     "data": {
      "text/plain": [
       "0.002512562814070352"
      ]
     },
     "execution_count": 12,
     "metadata": {},
     "output_type": "execute_result"
    }
   ],
   "source": [
    "score[1]#acc 望大"
   ]
  }
 ],
 "metadata": {
  "kernelspec": {
   "display_name": "Python 3",
   "language": "python",
   "name": "python3"
  },
  "language_info": {
   "codemirror_mode": {
    "name": "ipython",
    "version": 3
   },
   "file_extension": ".py",
   "mimetype": "text/x-python",
   "name": "python",
   "nbconvert_exporter": "python",
   "pygments_lexer": "ipython3",
   "version": "3.6.4"
  }
 },
 "nbformat": 4,
 "nbformat_minor": 2
}
