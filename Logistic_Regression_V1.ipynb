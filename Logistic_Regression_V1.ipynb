{
 "cells": [
  {
   "cell_type": "code",
   "execution_count": 5,
   "metadata": {},
   "outputs": [
    {
     "name": "stdout",
     "output_type": "stream",
     "text": [
      "[[-0.98136537 -2.40629309 -0.023991  ]]\n",
      "[ 3.88051905]\n",
      "[  2.53704739e-25   1.40606613e-69   5.27606885e-02]\n",
      "0.796857463524\n"
     ]
    }
   ],
   "source": [
    "import pandas as pd\n",
    "import numpy as np\n",
    "from sklearn import preprocessing, linear_model\n",
    "from sklearn.feature_selection import f_regression\n",
    "\n",
    "url = \"https://storage.googleapis.com/2017_ithome_ironman/data/kaggle_titanic_train.csv\"\n",
    "titanic_train = pd.read_csv(url)\n",
    "\n",
    "# 將 Age 遺漏值以 median 填補\n",
    "age_median = np.nanmedian(titanic_train[\"Age\"])\n",
    "new_Age = np.where(titanic_train[\"Age\"].isnull(), age_median, titanic_train[\"Age\"])\n",
    "titanic_train[\"Age\"] = new_Age\n",
    "titanic_train\n",
    "\n",
    "# 創造 dummy variables\n",
    "label_encoder = preprocessing.LabelEncoder()\n",
    "encoded_Sex = label_encoder.fit_transform(titanic_train[\"Sex\"])\n",
    "\n",
    "# 建立 train_X\n",
    "train_X = pd.DataFrame([titanic_train[\"Pclass\"],\n",
    "                        encoded_Sex,\n",
    "                        titanic_train[\"Age\"]\n",
    "]).T\n",
    "\n",
    "# 建立模型\n",
    "logistic_regr = linear_model.LogisticRegression()\n",
    "logistic_regr.fit(train_X, titanic_train[\"Survived\"])\n",
    "\n",
    "# 印出係數\n",
    "print(logistic_regr.coef_)\n",
    "\n",
    "# 印出截距\n",
    "print(logistic_regr.intercept_ )\n",
    "\n",
    "# 印出 p-value\n",
    "print(f_regression(train_X, titanic_train[\"Survived\"])[1])\n",
    "\n",
    "# 計算準確率\n",
    "survived_predictions = logistic_regr.predict(train_X)\n",
    "accuracy = logistic_regr.score(train_X, titanic_train[\"Survived\"])\n",
    "print(accuracy)"
   ]
  },
  {
   "cell_type": "code",
   "execution_count": 8,
   "metadata": {},
   "outputs": [
    {
     "name": "stdout",
     "output_type": "stream",
     "text": [
      "<class 'numpy.float64'>\n"
     ]
    }
   ],
   "source": [
    "print(type(accuracy))"
   ]
  },
  {
   "cell_type": "code",
   "execution_count": null,
   "metadata": {
    "collapsed": true
   },
   "outputs": [],
   "source": []
  },
  {
   "cell_type": "code",
   "execution_count": 9,
   "metadata": {
    "collapsed": true
   },
   "outputs": [],
   "source": [
    "def Logistic_Regression_model(filename,chromsome):\n",
    "    # 載入資料\n",
    "    ETF_train = pd.read_csv(filename)\n",
    "    col_list=list(ETF_train.columns)\n",
    "\n",
    "    traindata_rate=chromsome[len(col_list)-1]\n",
    "\n",
    "    # 建立訓練與測試資料\n",
    "    x_tmp=create_x_tmp(ETF_train,col_list,chromsome)\n",
    "    ETF_X = pd.DataFrame(x_tmp).T\n",
    "    ETF_Y = ETF_train[\"Y\"]\n",
    "\n",
    "    train_X=ETF_X[:round(len(ETF_train)*traindata_rate)]\n",
    "    test_X=ETF_X[round(len(ETF_train)*traindata_rate):]\n",
    "    train_Y=ETF_Y[:round(len(ETF_train)*traindata_rate)]\n",
    "    test_Y=ETF_Y[round(len(ETF_train)*traindata_rate):]\n",
    "\n",
    "    # 建立 random forest 模型 \n",
    "    logistic_regr = linear_model.LogisticRegression()\n",
    "    logistic_regr.fit(train_X,train_Y)\n",
    "\n",
    "    survived_predictions = logistic_regr.predict(test_X)\n",
    "    accuracy = logistic_regr.score(test_X,test_Y)\n",
    "    return accuracy"
   ]
  }
 ],
 "metadata": {
  "kernelspec": {
   "display_name": "Python 3",
   "language": "python",
   "name": "python3"
  },
  "language_info": {
   "codemirror_mode": {
    "name": "ipython",
    "version": 3
   },
   "file_extension": ".py",
   "mimetype": "text/x-python",
   "name": "python",
   "nbconvert_exporter": "python",
   "pygments_lexer": "ipython3",
   "version": "3.6.3"
  }
 },
 "nbformat": 4,
 "nbformat_minor": 2
}
