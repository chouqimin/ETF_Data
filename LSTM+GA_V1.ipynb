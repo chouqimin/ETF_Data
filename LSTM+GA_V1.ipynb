{
 "cells": [
  {
   "cell_type": "code",
   "execution_count": null,
   "metadata": {},
   "outputs": [],
   "source": [
    "#染色體\n",
    "#1.batch size：[100,200,300]\n",
    "#2.epochs ： [100,200,300]\n",
    "#3.dropout rate：[0.1,0.2,0.3,0.4,0.5]\n",
    "#4.validation rate ：[0.1,0.2,0.3]\n",
    "#5.hiden layer ：[1,2,3]\n",
    "#6.Cell ：[16,32,64,128,256]\n",
    "#7.livefuncion：[\"sigmoid\",\"relu\",\"linear\"],[\"sigmoid\",\"relu\",\"linear\"]\n",
    "#染色體長度共8個\n"
   ]
  },
  {
   "cell_type": "code",
   "execution_count": 140,
   "metadata": {},
   "outputs": [],
   "source": [
    "def lstm_test(chromosome_one):\n",
    "    return createrandomList(1,10000)[0]"
   ]
  },
  {
   "cell_type": "code",
   "execution_count": null,
   "metadata": {},
   "outputs": [],
   "source": [
    "import random\n",
    "def createrandomList(create_number,category):\n",
    "    list_random = [ random.randint(0,category) for i in range(create_number)]\n",
    "    return(list_random)"
   ]
  },
  {
   "cell_type": "code",
   "execution_count": 153,
   "metadata": {},
   "outputs": [
    {
     "data": {
      "text/plain": [
       "4"
      ]
     },
     "execution_count": 153,
     "metadata": {},
     "output_type": "execute_result"
    }
   ],
   "source": [
    "createrandomList(1,5)[0]"
   ]
  },
  {
   "cell_type": "code",
   "execution_count": 144,
   "metadata": {},
   "outputs": [],
   "source": [
    "#init create population chromosome(100)--function input：filename & population, output：population_list \n",
    "chromosom_value=[[100,200,300],[100,200,300],[0.1,0.2,0.3,0.4,0.5],[0.1,0.2,0.3],[1,2,3],[16,32,64,128,256],[\"sigmoid\",\"relu\",\"linear\"],[\"sigmoid\",\"relu\",\"linear\"]]\n",
    "def create_population(population):\n",
    "    population_list=[]\n",
    "    for popu in range(population):\n",
    "        chromosome_create=[]\n",
    "        for index in chromosom_value:\n",
    "            chromosome_create.append(index[createrandomList(1,len(index)-1)[0]]) #從chromosom_value隨機產生一個值塞到\n",
    "        population_list.append(chromosome_create)\n",
    "    return population_list"
   ]
  },
  {
   "cell_type": "code",
   "execution_count": 193,
   "metadata": {},
   "outputs": [],
   "source": [
    "def cross(cross_rate,chromosome_1,chromosome_2):\n",
    "    random_rate=random.random()\n",
    "#     print(random_rate)\n",
    "    if(random_rate>cross_rate):\n",
    "#         print(\"cross\")\n",
    "        point_1=random.randint(0,len(chromosome_1)-1)\n",
    "        point_2=random.randint(0,len(chromosome_1)-1)\n",
    "\n",
    "        while(point_1>=point_2):\n",
    "            point_1=random.randint(0,len(chromosome_1)-1)\n",
    "            point_2=random.randint(0,len(chromosome_1)-1)\n",
    "\n",
    "        print(\"cross_point1: \"+str(point_1))\n",
    "        print(\"cross_point2: \"+str(point_2))\n",
    "        print(\"cross_len_chromosome_1= \"+str(len(chromosome_1)))\n",
    "        print(\"cross_len_chromosome_2= \"+str(len(chromosome_2)))\n",
    "\n",
    "        tmp=0\n",
    "        for index in range(point_1,point_2+1):\n",
    "            tmp=chromosome_1[index]\n",
    "            chromosome_1[index]=chromosome_2[index]\n",
    "            chromosome_2[index]=tmp\n",
    "            \n",
    "    return chromosome_1"
   ]
  },
  {
   "cell_type": "code",
   "execution_count": 259,
   "metadata": {},
   "outputs": [
    {
     "name": "stdout",
     "output_type": "stream",
     "text": [
      "[300, 300, 0.3, 0.2, 2, 256, 'sigmoid', 'linear']\n",
      "[300, 300, 0.4, 0.2, 1, 64, 'sigmoid', 'sigmoid']\n",
      "cross_point1: 5\n",
      "cross_point2: 6\n",
      "cross_len_chromosome_1= 8\n",
      "cross_len_chromosome_2= 8\n",
      "[300, 300, 0.3, 0.2, 2, 64, 'sigmoid', 'linear']\n"
     ]
    }
   ],
   "source": [
    "chromosome_1=create_population(1)[0]\n",
    "chromosome_2=create_population(1)[0]\n",
    "print(chromosome_1)\n",
    "print(chromosome_2)\n",
    "print(cross(0,chromosome_1,chromosome_2))"
   ]
  },
  {
   "cell_type": "code",
   "execution_count": 120,
   "metadata": {},
   "outputs": [],
   "source": [
    "# mutation_rate=0\n",
    "# chromosome=create_population(1)[0]\n",
    "def mutation(mutation_rate,chromosome):\n",
    "    random_rate=random.random()\n",
    "    if(random_rate>mutation_rate):\n",
    "        print(\"mutation_start\")\n",
    "        point_1=random.randint(0,len(chromosome)-1)#產生二個隨機point1 & point2 為了到時候mutation\n",
    "        point_2=random.randint(0,len(chromosome)-1)\n",
    "        while(point_1==point_2):#如果point1 point2 一樣要重新產生\n",
    "            point_1=random.randint(0,len(chromosome)-1)\n",
    "            point_2=random.randint(0,len(chromosome)-1)\n",
    "        print(\"mu_point1= \"+str(point_1))\n",
    "        print(\"mu_point2= \"+str(point_2))\n",
    "\n",
    "        tmp=chromosome[point_1]#改變染色體中第point1的值，如果產生的新值與舊的一樣要再重新產生\n",
    "        #chromosome[point_1]值等於chromosom_value裡面隨機產生的一個值createrandomList(1,len(chromosom_value[point_1])-1)[0]\n",
    "        chromosome[point_1]=chromosom_value[point_1][createrandomList(1,len(chromosom_value[point_1])-1)[0]]#\n",
    "        while(tmp==chromosome[point_1]):\n",
    "            chromosome[point_1]=chromosom_value[point_1][createrandomList(1,len(chromosom_value[point_1])-1)[0]]\n",
    "\n",
    "        tmp_2=chromosome[point_2]#改變染色體中第point2的值，如果產生的新值與舊的一樣要再重新產生\n",
    "        chromosome[point_2]=chromosom_value[point_2][createrandomList(1,len(chromosom_value[point_2])-1)[0]]\n",
    "        while(tmp_2==chromosome[point_2]):\n",
    "            chromosome[point_2]=chromosom_value[point_2][createrandomList(1,len(chromosom_value[point_2])-1)[0]]\n",
    "    return chromosome"
   ]
  },
  {
   "cell_type": "code",
   "execution_count": 125,
   "metadata": {},
   "outputs": [
    {
     "name": "stdout",
     "output_type": "stream",
     "text": [
      "old: [100, 200, 0.4, 0.3, 3, 128, 'linear', 'relu']\n",
      "mutation_start\n",
      "mu_point1= 6\n",
      "mu_point2= 1\n",
      "new: [100, 100, 0.4, 0.3, 3, 128, 'sigmoid', 'relu']\n"
     ]
    }
   ],
   "source": [
    "chromosome=create_population(1)[0]\n",
    "print(\"old: \"+ str(chromosome))\n",
    "print(\"new: \"+str(mutation(0,chromosome)))"
   ]
  },
  {
   "cell_type": "code",
   "execution_count": 139,
   "metadata": {},
   "outputs": [],
   "source": [
    "# population_list=create_population(10)\n",
    "# rank_number=4\n",
    "\n",
    "def calculateY_rank(rank_number,population_list):\n",
    "    result_all_x_fitness=[]#記錄所有population與產生的y\n",
    "    best_result=[]#記錄最好的population&y\n",
    "\n",
    "    for index in population_list:\n",
    "        fitness_value=lstm_test(index)#calculate fintness_value\n",
    "        result_all_x_fitness.append([fitness_value,index])\n",
    "    #print(result_all_x_fitness)\n",
    "\n",
    "    result_rank=[]#record before rank\"s x & fitness_value\n",
    "    for index in range(0,rank_number):\n",
    "        result_rank.append(sorted(result_all_x_fitness,reverse=True)[index])#sort:big->small\n",
    "    best_result=result_rank[0]\n",
    "\n",
    "    x_final=[]#記錄前十五名的染色體\n",
    "    for index in result_rank:\n",
    "        x_final.append(index[1])\n",
    "    return [x_final,best_result]"
   ]
  },
  {
   "cell_type": "code",
   "execution_count": 141,
   "metadata": {},
   "outputs": [
    {
     "data": {
      "text/plain": [
       "[[[100, 100, 0.3, 0.3, 1, 128, 'linear', 'relu'],\n",
       "  [200, 300, 0.4, 0.3, 2, 32, 'linear', 'sigmoid'],\n",
       "  [300, 100, 0.5, 0.3, 1, 16, 'sigmoid', 'relu'],\n",
       "  [100, 200, 0.5, 0.1, 1, 64, 'relu', 'relu'],\n",
       "  [200, 200, 0.1, 0.2, 3, 256, 'sigmoid', 'linear']],\n",
       " [8993, [100, 100, 0.3, 0.3, 1, 128, 'linear', 'relu']]]"
      ]
     },
     "execution_count": 141,
     "metadata": {},
     "output_type": "execute_result"
    }
   ],
   "source": [
    "calculateY_rank(5,create_population(15))"
   ]
  },
  {
   "cell_type": "code",
   "execution_count": 165,
   "metadata": {},
   "outputs": [],
   "source": [
    "#產生新的X(上一代最好的前15個交配+突變產生新的15個+隨機產生85個新的x)--function\n",
    "def create_new_x(rank_number,population,cross_rate,mutation_rate,x_final):\n",
    "    new_x=[]\n",
    "    #先把前15名的染色體做交配&突變->產生新15個染色體\n",
    "    for index in range(0,rank_number):\n",
    "        other_ch=createrandomList(1,rank_number-1)[0]\n",
    "        while(index==other_ch):\n",
    "            other_ch=createrandomList(1,rank_number-1)[0] #變矩陣要減1 if index= other_ch -> create other_ch again\n",
    "        print(\"index: \"+str(index))\n",
    "        print(\"other_ch: \"+str(other_ch))\n",
    "        cross_result=cross(cross_rate,x_final[index],x_final[other_ch])\n",
    "        new_x.append(mutation(mutation_rate,cross_result))\n",
    "\n",
    "    #隨機產生第16~100的染色體\n",
    "    for index in range(0,population-rank_number):\n",
    "        new_x.append(create_population(1))\n",
    "    return new_x"
   ]
  },
  {
   "cell_type": "code",
   "execution_count": 166,
   "metadata": {},
   "outputs": [
    {
     "name": "stdout",
     "output_type": "stream",
     "text": [
      "index: 0\n",
      "other_ch: 3\n",
      "cross_point1: 5\n",
      "cross_point2: 7\n",
      "cross_len_chromosome_1= 8\n",
      "cross_len_chromosome_2= 8\n",
      "mutation_start\n",
      "mu_point1= 4\n",
      "mu_point2= 7\n",
      "index: 1\n",
      "other_ch: 0\n",
      "cross_point1: 2\n",
      "cross_point2: 4\n",
      "cross_len_chromosome_1= 8\n",
      "cross_len_chromosome_2= 8\n",
      "mutation_start\n",
      "mu_point1= 0\n",
      "mu_point2= 7\n",
      "index: 2\n",
      "other_ch: 3\n",
      "cross_point1: 3\n",
      "cross_point2: 5\n",
      "cross_len_chromosome_1= 8\n",
      "cross_len_chromosome_2= 8\n",
      "mutation_start\n",
      "mu_point1= 0\n",
      "mu_point2= 7\n",
      "index: 3\n",
      "other_ch: 0\n",
      "cross_point1: 6\n",
      "cross_point2: 7\n",
      "cross_len_chromosome_1= 8\n",
      "cross_len_chromosome_2= 8\n",
      "mutation_start\n",
      "mu_point1= 5\n",
      "mu_point2= 4\n",
      "index: 4\n",
      "other_ch: 0\n",
      "cross_point1: 0\n",
      "cross_point2: 4\n",
      "cross_len_chromosome_1= 8\n",
      "cross_len_chromosome_2= 8\n",
      "mutation_start\n",
      "mu_point1= 4\n",
      "mu_point2= 3\n"
     ]
    },
    {
     "data": {
      "text/plain": [
       "[[100, 200, 0.1, 0.3, 1, 32, 'relu', 'sigmoid'],\n",
       " [300, 300, 0.3, 0.1, 1, 64, 'sigmoid', 'sigmoid'],\n",
       " [200, 200, 0.1, 0.1, 2, 32, 'sigmoid', 'linear'],\n",
       " [200, 100, 0.1, 0.1, 3, 128, 'linear', 'sigmoid'],\n",
       " [300, 200, 0.5, 0.1, 3, 32, 'relu', 'relu'],\n",
       " [[300, 300, 0.5, 0.2, 1, 128, 'linear', 'relu']],\n",
       " [[300, 200, 0.3, 0.3, 2, 256, 'relu', 'relu']],\n",
       " [[200, 100, 0.3, 0.2, 2, 32, 'linear', 'relu']],\n",
       " [[300, 200, 0.1, 0.2, 2, 64, 'relu', 'sigmoid']],\n",
       " [[100, 300, 0.5, 0.1, 2, 128, 'linear', 'relu']],\n",
       " [[200, 100, 0.3, 0.2, 2, 256, 'relu', 'linear']],\n",
       " [[100, 100, 0.3, 0.3, 3, 256, 'relu', 'sigmoid']],\n",
       " [[300, 200, 0.1, 0.2, 2, 128, 'linear', 'linear']],\n",
       " [[100, 200, 0.5, 0.1, 2, 256, 'linear', 'linear']],\n",
       " [[200, 200, 0.3, 0.1, 3, 32, 'linear', 'sigmoid']]]"
      ]
     },
     "execution_count": 166,
     "metadata": {},
     "output_type": "execute_result"
    }
   ],
   "source": [
    "rank_number=5\n",
    "population=15\n",
    "cross_rate=0.1\n",
    "mutation_rate=0.1\n",
    "x_final=calculateY_rank(5,create_population(15))[0]\n",
    "#print(x_final[0])\n",
    "create_new_x(rank_number,population,cross_rate,mutation_rate,x_final)"
   ]
  },
  {
   "cell_type": "code",
   "execution_count": null,
   "metadata": {},
   "outputs": [],
   "source": []
  },
  {
   "cell_type": "code",
   "execution_count": 264,
   "metadata": {},
   "outputs": [
    {
     "name": "stdout",
     "output_type": "stream",
     "text": [
      "start-1 GA\n",
      "\n",
      "iteration_now= 1\n",
      "y_now= 9153\n",
      "y_best= 9153\n",
      "x_best= [200, 300, 0.4, 0.3, 3, 16, 'sigmoid', 'sigmoid']\n",
      "[[200, 300, 0.4, 0.3, 3, 16, 'sigmoid', 'sigmoid'], [200, 300, 0.2, 0.3, 2, 256, 'sigmoid', 'relu'], [200, 300, 0.5, 0.3, 2, 64, 'relu', 'sigmoid']]\n",
      "index: 0\n",
      "other_ch: 1\n",
      "cross_point1: 1\n",
      "cross_point2: 7\n",
      "cross_len_chromosome_1= 8\n",
      "cross_len_chromosome_2= 8\n",
      "mutation_start\n",
      "mu_point1= 7\n",
      "mu_point2= 3\n",
      "index: 1\n",
      "other_ch: 0\n",
      "cross_point1: 0\n",
      "cross_point2: 1\n",
      "cross_len_chromosome_1= 8\n",
      "cross_len_chromosome_2= 8\n",
      "mutation_start\n",
      "mu_point1= 0\n",
      "mu_point2= 2\n",
      "index: 2\n",
      "other_ch: 0\n",
      "cross_point1: 0\n",
      "cross_point2: 6\n",
      "cross_len_chromosome_1= 8\n",
      "cross_len_chromosome_2= 8\n",
      "\n",
      "iteration_now= 2\n",
      "y_now= 7021\n",
      "[[200, 300, 0.2, 0.2, 2, 256, 'sigmoid', 'sigmoid'], [[300, 100, 0.3, 0.3, 2, 64, 'sigmoid', 'sigmoid']], [[200, 300, 0.3, 0.3, 3, 256, 'sigmoid', 'relu']]]\n",
      "index: 0\n",
      "other_ch: 1\n",
      "mutation_start\n",
      "mu_point1= 6\n",
      "mu_point2= 5\n",
      "index: 1\n",
      "other_ch: 2\n"
     ]
    },
    {
     "ename": "KeyboardInterrupt",
     "evalue": "",
     "output_type": "error",
     "traceback": [
      "\u001b[1;31m---------------------------------------------------------------------------\u001b[0m",
      "\u001b[1;31mKeyboardInterrupt\u001b[0m                         Traceback (most recent call last)",
      "\u001b[1;32m<ipython-input-264-4aaed9af3bdf>\u001b[0m in \u001b[0;36m<module>\u001b[1;34m()\u001b[0m\n\u001b[0;32m     29\u001b[0m         \u001b[0mprint\u001b[0m\u001b[1;33m(\u001b[0m\u001b[1;34m\"x_best= \"\u001b[0m\u001b[1;33m+\u001b[0m\u001b[0mstr\u001b[0m\u001b[1;33m(\u001b[0m\u001b[0mx_best\u001b[0m\u001b[1;33m)\u001b[0m\u001b[1;33m)\u001b[0m\u001b[1;33m\u001b[0m\u001b[0m\n\u001b[0;32m     30\u001b[0m     \u001b[0mprint\u001b[0m\u001b[1;33m(\u001b[0m\u001b[0mY\u001b[0m\u001b[1;33m[\u001b[0m\u001b[1;36m0\u001b[0m\u001b[1;33m]\u001b[0m\u001b[1;33m)\u001b[0m\u001b[1;33m\u001b[0m\u001b[0m\n\u001b[1;32m---> 31\u001b[1;33m     \u001b[0mpopulation_list\u001b[0m\u001b[1;33m=\u001b[0m\u001b[0mcreate_new_x\u001b[0m\u001b[1;33m(\u001b[0m\u001b[0mrank_number\u001b[0m\u001b[1;33m,\u001b[0m\u001b[0mpopulation\u001b[0m\u001b[1;33m,\u001b[0m\u001b[0mcross_rate\u001b[0m\u001b[1;33m,\u001b[0m\u001b[0mmutation_rate\u001b[0m\u001b[1;33m,\u001b[0m\u001b[0mY\u001b[0m\u001b[1;33m[\u001b[0m\u001b[1;36m0\u001b[0m\u001b[1;33m]\u001b[0m\u001b[1;33m)\u001b[0m\u001b[1;33m\u001b[0m\u001b[0m\n\u001b[0m\u001b[0;32m     32\u001b[0m \u001b[1;33m\u001b[0m\u001b[0m\n\u001b[0;32m     33\u001b[0m \u001b[0mprint\u001b[0m\u001b[1;33m(\u001b[0m\u001b[1;34m\"iteration_now= \"\u001b[0m\u001b[1;33m+\u001b[0m\u001b[0mstr\u001b[0m\u001b[1;33m(\u001b[0m\u001b[0miteration_now\u001b[0m\u001b[1;33m)\u001b[0m\u001b[1;33m)\u001b[0m\u001b[1;33m\u001b[0m\u001b[0m\n",
      "\u001b[1;32m<ipython-input-165-47c07833c7fd>\u001b[0m in \u001b[0;36mcreate_new_x\u001b[1;34m(rank_number, population, cross_rate, mutation_rate, x_final)\u001b[0m\n\u001b[0;32m      9\u001b[0m         \u001b[0mprint\u001b[0m\u001b[1;33m(\u001b[0m\u001b[1;34m\"index: \"\u001b[0m\u001b[1;33m+\u001b[0m\u001b[0mstr\u001b[0m\u001b[1;33m(\u001b[0m\u001b[0mindex\u001b[0m\u001b[1;33m)\u001b[0m\u001b[1;33m)\u001b[0m\u001b[1;33m\u001b[0m\u001b[0m\n\u001b[0;32m     10\u001b[0m         \u001b[0mprint\u001b[0m\u001b[1;33m(\u001b[0m\u001b[1;34m\"other_ch: \"\u001b[0m\u001b[1;33m+\u001b[0m\u001b[0mstr\u001b[0m\u001b[1;33m(\u001b[0m\u001b[0mother_ch\u001b[0m\u001b[1;33m)\u001b[0m\u001b[1;33m)\u001b[0m\u001b[1;33m\u001b[0m\u001b[0m\n\u001b[1;32m---> 11\u001b[1;33m         \u001b[0mcross_result\u001b[0m\u001b[1;33m=\u001b[0m\u001b[0mcross\u001b[0m\u001b[1;33m(\u001b[0m\u001b[0mcross_rate\u001b[0m\u001b[1;33m,\u001b[0m\u001b[0mx_final\u001b[0m\u001b[1;33m[\u001b[0m\u001b[0mindex\u001b[0m\u001b[1;33m]\u001b[0m\u001b[1;33m,\u001b[0m\u001b[0mx_final\u001b[0m\u001b[1;33m[\u001b[0m\u001b[0mother_ch\u001b[0m\u001b[1;33m]\u001b[0m\u001b[1;33m)\u001b[0m\u001b[1;33m\u001b[0m\u001b[0m\n\u001b[0m\u001b[0;32m     12\u001b[0m         \u001b[0mnew_x\u001b[0m\u001b[1;33m.\u001b[0m\u001b[0mappend\u001b[0m\u001b[1;33m(\u001b[0m\u001b[0mmutation\u001b[0m\u001b[1;33m(\u001b[0m\u001b[0mmutation_rate\u001b[0m\u001b[1;33m,\u001b[0m\u001b[0mcross_result\u001b[0m\u001b[1;33m)\u001b[0m\u001b[1;33m)\u001b[0m\u001b[1;33m\u001b[0m\u001b[0m\n\u001b[0;32m     13\u001b[0m \u001b[1;33m\u001b[0m\u001b[0m\n",
      "\u001b[1;32m<ipython-input-193-e2a7d4dc2bbe>\u001b[0m in \u001b[0;36mcross\u001b[1;34m(cross_rate, chromosome_1, chromosome_2)\u001b[0m\n\u001b[0;32m      8\u001b[0m \u001b[1;33m\u001b[0m\u001b[0m\n\u001b[0;32m      9\u001b[0m         \u001b[1;32mwhile\u001b[0m\u001b[1;33m(\u001b[0m\u001b[0mpoint_1\u001b[0m\u001b[1;33m>=\u001b[0m\u001b[0mpoint_2\u001b[0m\u001b[1;33m)\u001b[0m\u001b[1;33m:\u001b[0m\u001b[1;33m\u001b[0m\u001b[0m\n\u001b[1;32m---> 10\u001b[1;33m             \u001b[0mpoint_1\u001b[0m\u001b[1;33m=\u001b[0m\u001b[0mrandom\u001b[0m\u001b[1;33m.\u001b[0m\u001b[0mrandint\u001b[0m\u001b[1;33m(\u001b[0m\u001b[1;36m0\u001b[0m\u001b[1;33m,\u001b[0m\u001b[0mlen\u001b[0m\u001b[1;33m(\u001b[0m\u001b[0mchromosome_1\u001b[0m\u001b[1;33m)\u001b[0m\u001b[1;33m-\u001b[0m\u001b[1;36m1\u001b[0m\u001b[1;33m)\u001b[0m\u001b[1;33m\u001b[0m\u001b[0m\n\u001b[0m\u001b[0;32m     11\u001b[0m             \u001b[0mpoint_2\u001b[0m\u001b[1;33m=\u001b[0m\u001b[0mrandom\u001b[0m\u001b[1;33m.\u001b[0m\u001b[0mrandint\u001b[0m\u001b[1;33m(\u001b[0m\u001b[1;36m0\u001b[0m\u001b[1;33m,\u001b[0m\u001b[0mlen\u001b[0m\u001b[1;33m(\u001b[0m\u001b[0mchromosome_1\u001b[0m\u001b[1;33m)\u001b[0m\u001b[1;33m-\u001b[0m\u001b[1;36m1\u001b[0m\u001b[1;33m)\u001b[0m\u001b[1;33m\u001b[0m\u001b[0m\n\u001b[0;32m     12\u001b[0m \u001b[1;33m\u001b[0m\u001b[0m\n",
      "\u001b[1;32m~\\Anaconda3\\lib\\random.py\u001b[0m in \u001b[0;36mrandint\u001b[1;34m(self, a, b)\u001b[0m\n\u001b[0;32m    219\u001b[0m         \"\"\"\n\u001b[0;32m    220\u001b[0m \u001b[1;33m\u001b[0m\u001b[0m\n\u001b[1;32m--> 221\u001b[1;33m         \u001b[1;32mreturn\u001b[0m \u001b[0mself\u001b[0m\u001b[1;33m.\u001b[0m\u001b[0mrandrange\u001b[0m\u001b[1;33m(\u001b[0m\u001b[0ma\u001b[0m\u001b[1;33m,\u001b[0m \u001b[0mb\u001b[0m\u001b[1;33m+\u001b[0m\u001b[1;36m1\u001b[0m\u001b[1;33m)\u001b[0m\u001b[1;33m\u001b[0m\u001b[0m\n\u001b[0m\u001b[0;32m    222\u001b[0m \u001b[1;33m\u001b[0m\u001b[0m\n\u001b[0;32m    223\u001b[0m     def _randbelow(self, n, int=int, maxsize=1<<BPF, type=type,\n",
      "\u001b[1;32m~\\Anaconda3\\lib\\random.py\u001b[0m in \u001b[0;36mrandrange\u001b[1;34m(self, start, stop, step, _int)\u001b[0m\n\u001b[0;32m    195\u001b[0m         \u001b[0mwidth\u001b[0m \u001b[1;33m=\u001b[0m \u001b[0mistop\u001b[0m \u001b[1;33m-\u001b[0m \u001b[0mistart\u001b[0m\u001b[1;33m\u001b[0m\u001b[0m\n\u001b[0;32m    196\u001b[0m         \u001b[1;32mif\u001b[0m \u001b[0mstep\u001b[0m \u001b[1;33m==\u001b[0m \u001b[1;36m1\u001b[0m \u001b[1;32mand\u001b[0m \u001b[0mwidth\u001b[0m \u001b[1;33m>\u001b[0m \u001b[1;36m0\u001b[0m\u001b[1;33m:\u001b[0m\u001b[1;33m\u001b[0m\u001b[0m\n\u001b[1;32m--> 197\u001b[1;33m             \u001b[1;32mreturn\u001b[0m \u001b[0mistart\u001b[0m \u001b[1;33m+\u001b[0m \u001b[0mself\u001b[0m\u001b[1;33m.\u001b[0m\u001b[0m_randbelow\u001b[0m\u001b[1;33m(\u001b[0m\u001b[0mwidth\u001b[0m\u001b[1;33m)\u001b[0m\u001b[1;33m\u001b[0m\u001b[0m\n\u001b[0m\u001b[0;32m    198\u001b[0m         \u001b[1;32mif\u001b[0m \u001b[0mstep\u001b[0m \u001b[1;33m==\u001b[0m \u001b[1;36m1\u001b[0m\u001b[1;33m:\u001b[0m\u001b[1;33m\u001b[0m\u001b[0m\n\u001b[0;32m    199\u001b[0m             \u001b[1;32mraise\u001b[0m \u001b[0mValueError\u001b[0m\u001b[1;33m(\u001b[0m\u001b[1;34m\"empty range for randrange() (%d,%d, %d)\"\u001b[0m \u001b[1;33m%\u001b[0m \u001b[1;33m(\u001b[0m\u001b[0mistart\u001b[0m\u001b[1;33m,\u001b[0m \u001b[0mistop\u001b[0m\u001b[1;33m,\u001b[0m \u001b[0mwidth\u001b[0m\u001b[1;33m)\u001b[0m\u001b[1;33m)\u001b[0m\u001b[1;33m\u001b[0m\u001b[0m\n",
      "\u001b[1;32m~\\Anaconda3\\lib\\random.py\u001b[0m in \u001b[0;36m_randbelow\u001b[1;34m(self, n, int, maxsize, type, Method, BuiltinMethod)\u001b[0m\n\u001b[0;32m    232\u001b[0m             \u001b[0mk\u001b[0m \u001b[1;33m=\u001b[0m \u001b[0mn\u001b[0m\u001b[1;33m.\u001b[0m\u001b[0mbit_length\u001b[0m\u001b[1;33m(\u001b[0m\u001b[1;33m)\u001b[0m  \u001b[1;31m# don't use (n-1) here because n can be 1\u001b[0m\u001b[1;33m\u001b[0m\u001b[0m\n\u001b[0;32m    233\u001b[0m             \u001b[0mr\u001b[0m \u001b[1;33m=\u001b[0m \u001b[0mgetrandbits\u001b[0m\u001b[1;33m(\u001b[0m\u001b[0mk\u001b[0m\u001b[1;33m)\u001b[0m          \u001b[1;31m# 0 <= r < 2**k\u001b[0m\u001b[1;33m\u001b[0m\u001b[0m\n\u001b[1;32m--> 234\u001b[1;33m             \u001b[1;32mwhile\u001b[0m \u001b[0mr\u001b[0m \u001b[1;33m>=\u001b[0m \u001b[0mn\u001b[0m\u001b[1;33m:\u001b[0m\u001b[1;33m\u001b[0m\u001b[0m\n\u001b[0m\u001b[0;32m    235\u001b[0m                 \u001b[0mr\u001b[0m \u001b[1;33m=\u001b[0m \u001b[0mgetrandbits\u001b[0m\u001b[1;33m(\u001b[0m\u001b[0mk\u001b[0m\u001b[1;33m)\u001b[0m\u001b[1;33m\u001b[0m\u001b[0m\n\u001b[0;32m    236\u001b[0m             \u001b[1;32mreturn\u001b[0m \u001b[0mr\u001b[0m\u001b[1;33m\u001b[0m\u001b[0m\n",
      "\u001b[1;31mKeyboardInterrupt\u001b[0m: "
     ]
    }
   ],
   "source": [
    "#GA + regression ->main\n",
    "#init parameter\n",
    "iteration=30\n",
    "iteration_now=0\n",
    "population=10\n",
    "rank_number=3\n",
    "\n",
    "cross_rate=0.1\n",
    "mutation_rate=0.1\n",
    "\n",
    "y_target=20000#fitnessvalue的目標，到達就停止迭代\n",
    "y_best=-1#目前為止(所有迭代中)最好的fitnessvalue\n",
    "y_now=-1#當前此迭代中最好的fitnessvalue\n",
    "x_best=[]\n",
    "\n",
    "population_list=create_population(population)#產生初始母體染色體\n",
    "\n",
    "print(\"start-1 GA\")\n",
    "while(not(iteration_now>=iteration or y_best>y_target)):\n",
    "    iteration_now=iteration_now+1\n",
    "    print(\"\\niteration_now= \"+str(iteration_now))\n",
    "    Y=calculateY_rank(rank_number,population_list)\n",
    "    y_now=Y[1][0]\n",
    "    print(\"y_now= \"+str(y_now))\n",
    "    if y_now>y_best:\n",
    "        y_best=y_now\n",
    "        print(\"y_best= \"+str(y_best))\n",
    "        x_best=Y[1][1]\n",
    "        print(\"x_best= \"+str(x_best))\n",
    "    print(Y[0])\n",
    "    population_list=create_new_x(rank_number,population,cross_rate,mutation_rate,Y[0])\n",
    "\n",
    "print(\"iteration_now= \"+str(iteration_now))\n",
    "print(\"y_best= \"+str(y_best))\n",
    "print(\"x_best= \"+str(x_best))"
   ]
  },
  {
   "cell_type": "code",
   "execution_count": null,
   "metadata": {},
   "outputs": [],
   "source": []
  },
  {
   "cell_type": "code",
   "execution_count": null,
   "metadata": {},
   "outputs": [],
   "source": []
  },
  {
   "cell_type": "code",
   "execution_count": null,
   "metadata": {},
   "outputs": [],
   "source": [
    "chromosom_value=[[100,200,300],[100,200,300],[0.1,0.2,0.3,0.4,0.5],[0.1,0.2,0.3],[1,2,3],[16,32,64,128,256],[\"sigmoid\",\"relu\",\"linear\"],[\"sigmoid\",\"relu\",\"linear\"]]\n",
    "chromosome_boundry=[]\n",
    "chromosome_create=[]\n",
    "for index in chromosom_value:\n",
    "    #hromosome_boundry.append(len(index)-1) #找到各染色體的上限list\n",
    "    chromosome_create.append(index[createrandomList(1,len(index)-1)[0]]) #從chromosom_value隨機產生一個值塞到\n",
    "print(chromosome_create) "
   ]
  }
 ],
 "metadata": {
  "kernelspec": {
   "display_name": "Python 3",
   "language": "python",
   "name": "python3"
  },
  "language_info": {
   "codemirror_mode": {
    "name": "ipython",
    "version": 3
   },
   "file_extension": ".py",
   "mimetype": "text/x-python",
   "name": "python",
   "nbconvert_exporter": "python",
   "pygments_lexer": "ipython3",
   "version": "3.6.4"
  }
 },
 "nbformat": 4,
 "nbformat_minor": 2
}
