{
 "cells": [
  {
   "cell_type": "code",
   "execution_count": 143,
   "metadata": {},
   "outputs": [],
   "source": [
    "import numpy as np\n",
    "from sklearn.linear_model import LinearRegression\n",
    "\n",
    "def create_x(filename,List_01):\n",
    "    npd=np.genfromtxt(filename,delimiter=',')\n",
    "    npd = np.delete(npd, 0, 0).T #刪除第0列再轉置\n",
    "    npd_x_final=np.array(npd[0]).T#挑某幾列當我的x 還要再轉回來\n",
    "    #List_01=create01List(filename)\n",
    "    for index in range(0,len(List_01)):\n",
    "        if List_01[index]==1:\n",
    "            x_add = np.array(npd[index])\n",
    "            npd_x_final = np.c_[npd_x_final,x_add.T]\n",
    "    npd_x_final = np.delete(npd_x_final.T, 0, 0).T #把一開始隨便加的刪掉再轉回來\n",
    "    #print(npd_x_final)\n",
    "    return(npd_x_final)\n",
    "\n",
    "def create_y(filename):\n",
    "    npd=np.genfromtxt(filename,delimiter=',')\n",
    "    npd = np.delete(npd, 0, 0).T #刪除第0列再轉置\n",
    "    npd_y_final=np.array(npd[len(npd.T[1])-1]).T#挑某幾列當我的x 還要再轉回來\n",
    "    return(npd_y_final)\n",
    "\n",
    "import random\n",
    "def create01List(filename):\n",
    "    list_random = [ random.random() for i in range(len(np.genfromtxt(filename,delimiter=',')[1]))]\n",
    "    for index in range(0,len(list_random)):\n",
    "        if list_random[index]<=0.5:\n",
    "            list_random[index]=0\n",
    "        else:\n",
    "            list_random[index]=1\n",
    "    return(list_random)\n",
    "\n",
    "#交配 FUNCTION\n",
    "def cross(cross_rate,chromosome_1,chromosome_2):\n",
    "    cross_rate=0.4\n",
    "#     chromosome_1=[1,2,3,4,5,6,7,8,9,10]\n",
    "#     chromosome_2=[0,0,0,0,0,0,0,0,0,0]\n",
    "    random_rate=random.random()\n",
    "    #print(random_rate)\n",
    "    if(random_rate>cross_rate):\n",
    "        #print(\"cross\")\n",
    "        point_1=round(random.random()*len(chromosome_1))\n",
    "        point_2=round(random.random()*len(chromosome_2))\n",
    "\n",
    "        while(point_1>=point_2):\n",
    "            point_1=round(random.random()*len(chromosome_1))\n",
    "            point_2=round(random.random()*len(chromosome_2))\n",
    "\n",
    "        #print(\"after1:\"+str(point_1))\n",
    "        #print(\"after2:\"+str(point_2))\n",
    "\n",
    "        tmp=0\n",
    "        for index in range(point_1,point_2+1):\n",
    "            tmp=chromosome_1[index]\n",
    "            chromosome_1[index]=chromosome_2[index]\n",
    "            chromosome_2[index]=tmp\n",
    "    return chromosome_1\n",
    "#         print(chromosome_1)  \n",
    "#         print(chromosome_2)\n",
    "        \n",
    "#mutation fucnition\n",
    "def mutation(mutation_rate,chromosome):\n",
    "    \n",
    "    random_rate=random.random()\n",
    "    if(random_rate>mutation_rate):\n",
    "        #print(\"mutation\")\n",
    "        point_1=round(random.random()*len(chromosome))\n",
    "        point_2=round(random.random()*len(chromosome))\n",
    "        while(point_1==point_2):\n",
    "            point_1=round(random.random()*len(chromosome))\n",
    "            point_2=round(random.random()*len(chromosome))\n",
    "        #print(\"point1= \"+str(point_1))\n",
    "        #print(\"point2= \"+str(point_2))\n",
    "        #print(\"chromsome_len= \"+str(len(chromosome)))\n",
    "\n",
    "        if(chromosome[point_1]==0):\n",
    "            chromosome[point_1]=1\n",
    "        else:\n",
    "            chromosome[point_1]=0\n",
    "\n",
    "        if(chromosome[point_2]==0):\n",
    "            chromosome[point_2]=1\n",
    "        else:\n",
    "            chromosome[point_2]=0\n",
    "    return chromosome\n",
    "    "
   ]
  },
  {
   "cell_type": "code",
   "execution_count": 4,
   "metadata": {},
   "outputs": [],
   "source": [
    "def Regression_execute(filename,times):\n",
    "    result={}\n",
    "    result[\"R_best\"]=0\n",
    "    for index in range(0,times):\n",
    "        npd_x=create_x('0050_new.csv')\n",
    "        npd_y=create_y('0050_new.csv')\n",
    "\n",
    "        lm=LinearRegression()\n",
    "        lm.fit(npd_x,npd_y)\n",
    "\n",
    "        #模型績效(MSE & R^2)\n",
    "        mse=np.mean((lm.predict(npd_x)-npd_y)**2)\n",
    "        R_squared=lm.score(npd_x,npd_y)\n",
    "        \n",
    "        if(R_squared>result[\"R_best\"]):\n",
    "            result[\"R_best\"]=R_squared\n",
    "            \n",
    "\n",
    "        print(mse)\n",
    "        print(R_squared)"
   ]
  },
  {
   "cell_type": "code",
   "execution_count": 12,
   "metadata": {},
   "outputs": [],
   "source": [
    "def Regression_execute(filename):\n",
    "    result={}\n",
    "    result[\"R_best\"]=0\n",
    "    for index in range(0,times):\n",
    "        npd_x=create_x('0050_new.csv')\n",
    "        npd_y=create_y('0050_new.csv')\n",
    "\n",
    "        lm=LinearRegression()\n",
    "        lm.fit(npd_x,npd_y)\n",
    "\n",
    "        #模型績效(MSE & R^2)\n",
    "        mse=np.mean((lm.predict(npd_x)-npd_y)**2)\n",
    "        R_squared=lm.score(npd_x,npd_y)\n",
    "        \n",
    "        if(R_squared>result[\"R_best\"]):\n",
    "            result[\"R_best\"]=R_squared\n",
    "            \n",
    "\n",
    "        print(mse)\n",
    "        print(R_squared)"
   ]
  },
  {
   "cell_type": "code",
   "execution_count": null,
   "metadata": {},
   "outputs": [],
   "source": []
  },
  {
   "cell_type": "code",
   "execution_count": 51,
   "metadata": {},
   "outputs": [
    {
     "name": "stdout",
     "output_type": "stream",
     "text": [
      "[[1, 0, 0, 0, 0, 0, 1, 1, 1, 1, 0, 0, 1, 0, 1, 0, 1, 0, 1, 0, 0, 1, 1, 1, 1, 0, 1, 1, 0, 1, 1, 1, 0, 1, 1, 1, 0, 0, 1, 0, 1, 0, 1, 1, 0, 1, 0, 1, 1, 0, 0, 0, 0, 0, 1, 0, 1, 0, 1, 1, 1, 0, 0, 1, 0, 1, 0], [0, 0, 1, 1, 1, 0, 1, 0, 0, 0, 0, 0, 1, 0, 0, 1, 0, 1, 0, 1, 0, 0, 0, 0, 1, 0, 1, 0, 1, 0, 1, 1, 0, 1, 1, 0, 1, 0, 1, 0, 0, 1, 0, 0, 0, 1, 0, 1, 0, 0, 0, 1, 0, 0, 0, 1, 0, 0, 1, 1, 0, 0, 0, 0, 0, 1, 1], [0, 1, 0, 1, 1, 1, 0, 1, 0, 1, 0, 1, 0, 1, 1, 0, 0, 0, 1, 1, 0, 1, 0, 0, 0, 0, 1, 0, 1, 0, 0, 1, 0, 0, 0, 1, 1, 1, 1, 1, 0, 1, 0, 1, 1, 1, 1, 0, 1, 0, 0, 0, 0, 0, 1, 1, 0, 1, 0, 1, 1, 1, 1, 0, 1, 0, 1], [1, 1, 0, 0, 0, 0, 0, 1, 0, 1, 0, 0, 1, 0, 1, 1, 0, 1, 1, 1, 0, 0, 0, 0, 1, 0, 1, 1, 1, 1, 0, 0, 1, 1, 0, 1, 0, 1, 0, 1, 0, 1, 0, 1, 1, 0, 0, 1, 0, 0, 1, 1, 1, 0, 1, 1, 0, 1, 1, 1, 1, 1, 1, 1, 0, 1, 0], [1, 0, 1, 0, 0, 0, 1, 0, 0, 1, 1, 0, 0, 0, 1, 0, 1, 0, 0, 1, 1, 1, 1, 0, 1, 1, 1, 1, 1, 1, 0, 0, 1, 0, 1, 1, 1, 1, 1, 1, 1, 0, 0, 1, 0, 1, 0, 1, 1, 1, 0, 1, 1, 0, 0, 1, 0, 1, 1, 1, 1, 0, 0, 1, 1, 0, 0], [0, 1, 1, 1, 0, 1, 0, 0, 0, 1, 1, 1, 1, 0, 0, 0, 0, 0, 1, 1, 0, 0, 0, 1, 1, 0, 0, 0, 1, 1, 1, 1, 1, 1, 1, 1, 0, 0, 0, 1, 0, 1, 1, 1, 1, 0, 0, 0, 0, 1, 0, 1, 1, 1, 1, 0, 0, 1, 1, 0, 1, 1, 1, 1, 0, 1, 0], [0, 1, 1, 0, 0, 1, 0, 1, 1, 1, 1, 1, 0, 0, 0, 0, 1, 1, 1, 0, 0, 1, 0, 0, 1, 1, 0, 1, 0, 0, 0, 0, 0, 1, 0, 1, 1, 1, 0, 1, 0, 1, 1, 0, 0, 0, 1, 0, 1, 1, 1, 1, 0, 0, 0, 1, 0, 0, 0, 0, 1, 0, 0, 0, 1, 1, 1], [1, 0, 0, 1, 1, 0, 1, 1, 1, 0, 0, 0, 1, 1, 1, 0, 0, 0, 1, 1, 1, 0, 0, 1, 0, 1, 0, 0, 0, 1, 1, 1, 0, 0, 0, 1, 0, 0, 0, 1, 0, 1, 1, 0, 1, 0, 1, 1, 0, 0, 0, 0, 1, 0, 1, 1, 0, 1, 0, 0, 1, 1, 1, 0, 0, 0, 0], [0, 1, 1, 0, 0, 1, 0, 0, 1, 1, 0, 1, 1, 0, 1, 1, 0, 0, 0, 0, 1, 0, 1, 1, 0, 0, 0, 0, 0, 0, 0, 0, 0, 0, 1, 0, 0, 1, 0, 1, 1, 0, 1, 0, 0, 0, 0, 1, 0, 1, 1, 1, 0, 1, 1, 0, 1, 1, 0, 0, 0, 0, 1, 1, 1, 1, 0], [0, 0, 1, 1, 1, 1, 0, 1, 1, 1, 1, 1, 1, 1, 1, 1, 0, 0, 0, 0, 1, 1, 1, 1, 0, 0, 0, 1, 1, 1, 1, 1, 1, 1, 0, 1, 0, 0, 1, 0, 0, 0, 0, 1, 0, 0, 1, 0, 0, 0, 0, 0, 1, 0, 1, 0, 0, 1, 1, 1, 0, 1, 1, 1, 0, 1, 0]]\n"
     ]
    }
   ],
   "source": [
    "#init create population chromosome(100)\n",
    "population=10\n",
    "population_list=[]\n",
    "for index in range(0,population):\n",
    "    population_list.append(create01List('0050_new.csv'))\n",
    "print(population_list)\n"
   ]
  },
  {
   "cell_type": "code",
   "execution_count": 118,
   "metadata": {},
   "outputs": [],
   "source": [
    "#init create population chromosome(100)--function input：filename & population, output：population_list \n",
    "def create_population(filename,population):\n",
    "    population_list=[]\n",
    "    for index in range(0,population):\n",
    "        population_list.append(create01List(filename))\n",
    "    return population_list"
   ]
  },
  {
   "cell_type": "code",
   "execution_count": 121,
   "metadata": {},
   "outputs": [
    {
     "name": "stdout",
     "output_type": "stream",
     "text": [
      "[[1, 0, 0, 1, 0, 1, 0, 0, 0, 1, 0, 1, 0, 1, 0, 0, 1, 1, 1, 0, 1, 0, 0, 1, 0, 0, 1, 1, 0, 0, 1, 0, 0, 0, 0, 1, 0, 0, 0, 0, 0, 1, 0, 1, 0, 0, 0, 1, 0, 0, 0, 1, 0, 1, 1, 0, 1, 1, 1, 1, 1, 1, 1, 0, 1, 0, 1], [0, 0, 0, 0, 1, 0, 0, 0, 0, 0, 0, 1, 0, 0, 0, 1, 0, 1, 0, 1, 1, 1, 1, 0, 1, 1, 0, 0, 0, 0, 1, 1, 1, 1, 1, 1, 0, 0, 0, 0, 1, 1, 1, 0, 1, 0, 0, 0, 0, 1, 0, 1, 0, 1, 1, 1, 0, 1, 0, 0, 0, 0, 1, 1, 1, 0, 1], [0, 1, 1, 1, 1, 1, 0, 0, 1, 0, 1, 0, 0, 0, 1, 0, 0, 0, 0, 0, 0, 1, 1, 1, 0, 0, 1, 1, 0, 0, 0, 1, 0, 1, 0, 0, 0, 1, 1, 0, 0, 1, 0, 1, 0, 0, 1, 0, 1, 1, 1, 1, 0, 1, 1, 1, 0, 1, 1, 0, 1, 1, 0, 1, 1, 1, 1], [1, 0, 1, 1, 1, 1, 0, 0, 1, 0, 1, 0, 0, 1, 1, 0, 0, 0, 1, 0, 0, 0, 1, 1, 0, 0, 0, 1, 1, 0, 1, 0, 1, 1, 0, 1, 0, 1, 0, 1, 1, 1, 1, 0, 0, 0, 1, 1, 0, 0, 0, 1, 1, 0, 1, 1, 0, 1, 0, 1, 0, 1, 0, 1, 0, 0, 1], [1, 1, 1, 1, 0, 1, 0, 1, 1, 0, 1, 0, 1, 1, 1, 1, 1, 0, 1, 1, 1, 0, 1, 1, 1, 0, 1, 1, 1, 1, 1, 1, 0, 1, 1, 1, 0, 0, 1, 1, 1, 1, 0, 1, 0, 1, 0, 0, 0, 1, 1, 1, 0, 1, 0, 0, 0, 0, 0, 1, 1, 0, 1, 0, 0, 1, 1], [1, 0, 1, 1, 1, 0, 1, 0, 0, 0, 0, 1, 1, 0, 0, 0, 0, 1, 0, 0, 0, 0, 1, 1, 1, 0, 1, 0, 0, 1, 1, 1, 0, 1, 1, 0, 0, 1, 1, 0, 1, 0, 1, 0, 1, 1, 1, 1, 0, 1, 0, 0, 0, 0, 0, 0, 1, 1, 1, 0, 0, 0, 0, 0, 0, 1, 1], [1, 0, 1, 0, 1, 0, 1, 1, 1, 1, 1, 0, 1, 1, 1, 0, 1, 0, 1, 0, 0, 1, 0, 0, 1, 0, 1, 1, 1, 1, 0, 0, 1, 1, 1, 0, 1, 1, 0, 1, 0, 0, 1, 1, 0, 0, 1, 1, 1, 1, 0, 0, 0, 0, 0, 0, 1, 0, 1, 1, 1, 0, 0, 1, 1, 0, 1], [0, 0, 0, 1, 1, 0, 0, 0, 1, 1, 0, 0, 0, 1, 0, 1, 0, 0, 1, 0, 0, 0, 0, 1, 1, 1, 1, 1, 0, 0, 0, 0, 1, 1, 0, 1, 0, 1, 1, 1, 1, 1, 0, 0, 1, 0, 1, 0, 0, 1, 1, 1, 1, 1, 1, 0, 1, 1, 0, 1, 0, 0, 0, 1, 1, 0, 0], [0, 1, 1, 1, 0, 0, 1, 0, 0, 1, 1, 0, 0, 1, 1, 1, 0, 0, 0, 0, 1, 1, 0, 0, 1, 1, 1, 0, 1, 1, 0, 1, 1, 0, 1, 0, 0, 1, 0, 0, 0, 1, 0, 1, 1, 1, 1, 0, 1, 1, 0, 1, 1, 1, 0, 0, 0, 1, 1, 0, 1, 1, 1, 0, 1, 0, 0], [1, 1, 1, 0, 1, 0, 1, 0, 1, 1, 1, 0, 0, 1, 1, 1, 0, 1, 0, 1, 1, 1, 1, 0, 0, 1, 1, 1, 0, 0, 1, 1, 0, 0, 1, 1, 1, 1, 0, 0, 1, 1, 1, 0, 0, 0, 0, 0, 1, 0, 0, 0, 1, 1, 1, 0, 1, 0, 1, 1, 1, 0, 0, 1, 1, 1, 0]]\n",
      "10\n"
     ]
    }
   ],
   "source": [
    "print(create_population('0050_new.csv',10))\n",
    "print(len(create_population('0050_new.csv',10)))"
   ]
  },
  {
   "cell_type": "code",
   "execution_count": 147,
   "metadata": {},
   "outputs": [
    {
     "name": "stdout",
     "output_type": "stream",
     "text": [
      "4\n"
     ]
    }
   ],
   "source": [
    "#input population(100) 種染色體， output：算出每個y 並且抓出前rank_number名\n",
    "rank_number=4\n",
    "population=100\n",
    "result=[]\n",
    "best_result=[]\n",
    "\n",
    "for index in population_list:\n",
    "    npd_x=create_x('0050_new.csv',index)\n",
    "    npd_y=create_y('0050_new.csv')\n",
    "\n",
    "    lm=LinearRegression()\n",
    "    lm.fit(npd_x,npd_y)\n",
    "\n",
    "    #模型績效(MSE & R^2)\n",
    "    mse=np.mean((lm.predict(npd_x)-npd_y)**2)\n",
    "    R_squared=lm.score(npd_x,npd_y)\n",
    "    result.append([[R_squared],[index]])\n",
    "\n",
    "result_final=[]\n",
    "\n",
    "for index in range(0,rank_number):\n",
    "    result_final.append(sorted(result,reverse=True)[index])\n",
    "best_result.append(result_final[0])\n",
    "\n",
    "x_final=[]\n",
    "for index in result_final:\n",
    "    x_final.append(index[1][0])\n",
    "print(len(result_final[0][1][0]))\n",
    "print(len(x_final))"
   ]
  },
  {
   "cell_type": "code",
   "execution_count": 128,
   "metadata": {},
   "outputs": [],
   "source": [
    "#input population(100) 種染色體， output：算出每個y 並且抓出前rank_number名 --function\n",
    "def countY_rank(filename,rank_number,population_list):\n",
    "    #rank_number=4\n",
    "    #population=100\n",
    "    result=[]#記錄所有population與產生的y\n",
    "    best_result=[]#記錄最好的population&y\n",
    "\n",
    "    for index in population_list:\n",
    "        npd_x=create_x(filename,index)\n",
    "        npd_y=create_y(filename)\n",
    "\n",
    "        lm=LinearRegression()\n",
    "        lm.fit(npd_x,npd_y)\n",
    "\n",
    "        #模型績效(MSE & R^2)\n",
    "        mse=np.mean((lm.predict(npd_x)-npd_y)**2)\n",
    "        R_squared=lm.score(npd_x,npd_y)\n",
    "        result.append([[R_squared],[index]])\n",
    "\n",
    "    result_final=[]\n",
    "\n",
    "    for index in range(0,rank_number):\n",
    "        result_final.append(sorted(result,reverse=True)[index])\n",
    "    best_result.append(result_final[0])\n",
    "\n",
    "    x_final=[]#記錄前十五名的染色體\n",
    "    for index in result_final:\n",
    "        x_final.append(index[1][0])\n",
    "    # print(len(result_final[0][1][0]))\n",
    "    #print(len(x_final))\n",
    "    return [x_final,best_result]"
   ]
  },
  {
   "cell_type": "code",
   "execution_count": 157,
   "metadata": {},
   "outputs": [
    {
     "name": "stdout",
     "output_type": "stream",
     "text": [
      "[[0, 0, 1, 1, 1, 1, 0, 1, 0, 1, 1, 1, 1, 0, 0, 1, 0, 0, 1, 0, 0, 0, 1, 0, 0, 1, 1, 0, 0, 0, 0, 1, 0, 1, 1, 0, 0, 0, 0, 0, 1, 1, 0, 1, 1, 0, 1, 1, 1, 0, 1, 0, 0, 0, 1, 1, 1, 1, 1, 0, 1, 1, 1, 0, 1, 0, 1], [0, 1, 0, 1, 0, 1, 0, 1, 0, 1, 0, 1, 0, 1, 1, 1, 1, 1, 0, 1, 1, 1, 0, 0, 0, 1, 1, 1, 1, 1, 0, 1, 0, 1, 0, 1, 0, 1, 0, 1, 0, 1, 0, 1, 0, 1, 1, 0, 0, 0, 0, 0, 0, 1, 1, 1, 1, 0, 0, 1, 1, 1, 0, 0, 1, 1, 0], [1, 1, 0, 0, 0, 0, 0, 1, 0, 1, 0, 0, 1, 0, 1, 1, 0, 1, 1, 1, 0, 0, 0, 0, 1, 0, 1, 1, 1, 1, 0, 0, 1, 1, 0, 1, 0, 1, 0, 1, 0, 1, 0, 1, 1, 0, 0, 1, 0, 0, 1, 1, 1, 0, 1, 1, 0, 1, 1, 1, 1, 1, 1, 1, 0, 1, 0], [0, 1, 1, 0, 0, 1, 0, 0, 1, 1, 0, 1, 1, 0, 1, 1, 0, 0, 0, 0, 1, 0, 1, 1, 0, 0, 0, 0, 0, 0, 0, 0, 0, 0, 1, 0, 0, 1, 0, 1, 1, 0, 1, 0, 0, 0, 0, 1, 0, 1, 1, 1, 0, 1, 1, 0, 1, 1, 0, 0, 0, 0, 1, 1, 1, 1, 0]]\n"
     ]
    }
   ],
   "source": [
    "print(countY_rank('0050_new.csv',4,population_list)[0])\n",
    "\n"
   ]
  },
  {
   "cell_type": "code",
   "execution_count": 144,
   "metadata": {},
   "outputs": [
    {
     "name": "stdout",
     "output_type": "stream",
     "text": [
      "new_x\n",
      "10\n"
     ]
    }
   ],
   "source": [
    "#產生新的X(上一代最好的前15個交配+突變產生新的15個+隨機產生85個新的x)\n",
    "rank_number=4\n",
    "population=10\n",
    "mutation_rate=0.1\n",
    "cross_rate=0.1\n",
    "filename='0050_new.csv'\n",
    "new_x=[]\n",
    "\n",
    "for index in range(0,rank_number):\n",
    "    #print(\"\")\n",
    "    #print(\"index= \"+str(index))\n",
    "    #print(x_final[index])\n",
    "    #print(\"x_index_len= \"+str(len(x_final[index])))\n",
    "    other_ch=round(random.random()*(rank_number-1))\n",
    "    #print(\"other_before= \"+str(other_ch))\n",
    "    while(index==other_ch):\n",
    "        other_ch=round(random.random()*(rank_number-1)) #變矩陣要減1\n",
    "    \n",
    "    #print(\"other_after= \"+str(other_ch))\n",
    "    #print(x_final[other_ch])\n",
    "    #print(\"x_other_len= \"+str(len(x_final[other_ch])))\n",
    "    tmp=cross(cross_rate,x_final[index],x_final[other_ch])\n",
    "    #print(\"after_crossed_list\")\n",
    "    #print(tmp)\n",
    "    #print(\"crossed_len= \"+ str(len(tmp)))\n",
    "    #print(\"after_mutation_list\")\n",
    "    #print(mutation(mutation_rate,tmp))\n",
    "    new_x.append(mutation(mutation_rate,tmp))\n",
    "\n",
    "# for index in x_final:\n",
    "#     print(index)\n",
    "# print(\"----------\")\n",
    "# for index in new_x:\n",
    "#     print(index)\n",
    "\n",
    "for index in range(0,population-rank_number):\n",
    "    new_x.append(create01List(filename))\n",
    "print(\"new_x\")\n",
    "print(len(new_x))\n",
    "    \n",
    "\n",
    "\n"
   ]
  },
  {
   "cell_type": "code",
   "execution_count": 141,
   "metadata": {},
   "outputs": [],
   "source": [
    "#產生新的X(上一代最好的前15個交配+突變產生新的15個+隨機產生85個新的x)--function\n",
    "def create_new_x(filename,rank_number,population,cross_rate,mutation_rate):\n",
    "    # rank_number=4\n",
    "    # population=10\n",
    "    # cross_rate=0.1\n",
    "    # mutation_rate=0.1\n",
    "    # filename='0050_new.csv'\n",
    "    new_x=[]\n",
    "\n",
    "    #先把前15名的染色體做交配&突變->產生新15個染色體\n",
    "    for index in range(0,rank_number):\n",
    "        other_ch=round(random.random()*(rank_number-1))\n",
    "        while(index==other_ch):\n",
    "            other_ch=round(random.random()*(rank_number-1)) #變矩陣要減1\n",
    "        tmp=cross(cross_rate,x_final[index],x_final[other_ch])\n",
    "        new_x.append(mutation(mutation_rate,tmp))\n",
    "\n",
    "    #隨機產生第16~100的染色體\n",
    "    for index in range(0,population-rank_number):\n",
    "        new_x.append(create01List(filename))\n",
    "    return new_x"
   ]
  },
  {
   "cell_type": "code",
   "execution_count": 145,
   "metadata": {},
   "outputs": [
    {
     "name": "stdout",
     "output_type": "stream",
     "text": [
      "[[0, 0, 1, 1, 1, 1, 0, 1, 0, 1, 1, 1, 1, 0, 0, 1, 0, 0, 0, 1, 0, 0, 0, 0, 1, 0, 1, 0, 1, 1, 1, 1, 0, 0, 1, 1, 1, 0, 0, 1, 0, 1, 1, 1, 1, 0, 1, 1, 1, 0, 1, 0, 0, 0, 1, 1, 0, 1, 1, 0, 1, 1, 1, 0, 0, 0, 1], [0, 1, 0, 0, 1, 1, 0, 0, 1, 1, 0, 0, 0, 1, 1, 1, 0, 0, 1, 0, 0, 0, 0, 1, 0, 1, 0, 1, 0, 1, 1, 1, 1, 0, 1, 1, 1, 1, 1, 1, 0, 0, 0, 0, 0, 0, 0, 0, 0, 0, 0, 1, 0, 0, 1, 0, 1, 1, 0, 1, 1, 1, 1, 0, 0, 1, 0], [0, 1, 1, 1, 0, 1, 0, 0, 0, 0, 0, 0, 0, 0, 0, 1, 0, 0, 1, 0, 0, 0, 1, 0, 0, 1, 1, 0, 0, 0, 0, 1, 0, 1, 1, 0, 0, 0, 0, 0, 1, 1, 0, 1, 1, 0, 1, 0, 1, 1, 0, 1, 0, 1, 0, 1, 0, 1, 1, 0, 1, 0, 0, 0, 0, 1, 1], [0, 1, 0, 1, 0, 1, 0, 1, 0, 1, 0, 1, 0, 1, 1, 1, 1, 1, 0, 1, 1, 1, 0, 0, 0, 1, 1, 1, 1, 1, 0, 1, 0, 1, 0, 1, 0, 1, 0, 1, 0, 1, 0, 1, 0, 1, 1, 0, 0, 0, 0, 0, 0, 1, 1, 1, 0, 0, 0, 0, 1, 1, 0, 0, 1, 1, 0], [0, 1, 0, 0, 0, 0, 1, 0, 1, 0, 1, 1, 0, 0, 1, 0, 1, 1, 1, 1, 1, 1, 0, 0, 0, 0, 1, 1, 1, 0, 1, 1, 0, 0, 1, 0, 1, 1, 0, 0, 1, 1, 1, 0, 0, 1, 1, 1, 0, 1, 1, 1, 0, 0, 0, 1, 1, 0, 1, 0, 0, 1, 1, 0, 1, 1, 0], [0, 0, 1, 0, 1, 0, 1, 0, 0, 0, 0, 0, 1, 0, 1, 1, 0, 0, 1, 1, 0, 0, 1, 1, 0, 1, 1, 0, 1, 1, 0, 1, 0, 0, 1, 0, 1, 0, 1, 1, 0, 1, 0, 0, 0, 0, 0, 0, 0, 0, 0, 0, 0, 0, 0, 1, 1, 1, 0, 1, 1, 0, 1, 0, 1, 0, 0], [0, 1, 0, 0, 0, 0, 0, 1, 0, 0, 1, 1, 1, 1, 1, 1, 1, 0, 1, 1, 0, 1, 0, 0, 0, 0, 0, 0, 1, 1, 1, 1, 0, 0, 1, 1, 0, 0, 0, 1, 0, 1, 0, 0, 1, 0, 1, 1, 0, 0, 1, 0, 1, 1, 0, 1, 0, 0, 1, 0, 0, 0, 0, 1, 1, 1, 1], [0, 1, 0, 1, 0, 0, 0, 0, 0, 0, 1, 1, 0, 1, 0, 1, 1, 0, 1, 1, 1, 0, 1, 1, 0, 1, 1, 1, 1, 1, 0, 1, 0, 1, 0, 0, 0, 1, 0, 0, 1, 0, 0, 0, 1, 0, 1, 1, 0, 0, 1, 0, 0, 0, 1, 0, 1, 1, 1, 0, 1, 0, 0, 0, 1, 0, 1], [1, 0, 1, 0, 0, 1, 0, 1, 1, 1, 1, 0, 0, 1, 1, 1, 1, 0, 0, 1, 1, 0, 1, 0, 1, 1, 0, 0, 1, 1, 1, 1, 0, 0, 0, 1, 1, 0, 1, 0, 1, 0, 1, 0, 1, 1, 0, 0, 0, 1, 0, 1, 1, 0, 1, 1, 0, 1, 0, 1, 1, 0, 0, 0, 1, 1, 0], [0, 0, 0, 1, 1, 1, 0, 1, 1, 0, 0, 0, 0, 0, 0, 0, 0, 0, 0, 1, 1, 1, 0, 0, 1, 0, 0, 0, 1, 1, 0, 1, 1, 0, 1, 1, 0, 0, 0, 0, 1, 1, 0, 1, 1, 0, 1, 0, 1, 1, 0, 0, 0, 0, 1, 0, 1, 1, 1, 0, 1, 0, 0, 1, 0, 0, 0]]\n",
      "10\n"
     ]
    }
   ],
   "source": [
    "print(create_new_x('0050_new.csv',4,10,0.1,0.1))\n",
    "print(len(create_new_x('0050_new.csv',4,10,0.1,0.1)))"
   ]
  },
  {
   "cell_type": "code",
   "execution_count": 146,
   "metadata": {},
   "outputs": [],
   "source": [
    "# for index in range(0,100):\n",
    "#     print(round(random.random()*(rank_number-1)))"
   ]
  },
  {
   "cell_type": "code",
   "execution_count": null,
   "metadata": {},
   "outputs": [],
   "source": []
  }
 ],
 "metadata": {
  "kernelspec": {
   "display_name": "Python 3",
   "language": "python",
   "name": "python3"
  },
  "language_info": {
   "codemirror_mode": {
    "name": "ipython",
    "version": 3
   },
   "file_extension": ".py",
   "mimetype": "text/x-python",
   "name": "python",
   "nbconvert_exporter": "python",
   "pygments_lexer": "ipython3",
   "version": "3.6.4"
  }
 },
 "nbformat": 4,
 "nbformat_minor": 2
}
