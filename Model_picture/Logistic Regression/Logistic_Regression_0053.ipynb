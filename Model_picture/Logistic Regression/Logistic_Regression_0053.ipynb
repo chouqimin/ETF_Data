{
 "cells": [
  {
   "cell_type": "code",
   "execution_count": 11,
   "metadata": {
    "collapsed": true
   },
   "outputs": [],
   "source": [
    "traindata_rate=[0.7,0.8,0.9]"
   ]
  },
  {
   "cell_type": "markdown",
   "metadata": {},
   "source": [
    "# Fitness Function"
   ]
  },
  {
   "cell_type": "code",
   "execution_count": 20,
   "metadata": {},
   "outputs": [],
   "source": [
    "import numpy as np\n",
    "import pandas as pd\n",
    "from sklearn import cross_validation, ensemble, preprocessing, metrics\n",
    "import pandas as pd\n",
    "import numpy as np\n",
    "from sklearn import preprocessing, linear_model\n",
    "from sklearn.feature_selection import f_regression\n",
    "\n",
    "def create_chromsom_value_X(filename):\n",
    "    chromosom_value_X=[]\n",
    "    ETF_train = pd.read_csv(filename)\n",
    "    col_list=list(ETF_train.columns)\n",
    "\n",
    "    for index in range(0,len(col_list)-1):\n",
    "        chromosom_value_X.append([0,1])\n",
    "    return chromosom_value_X\n",
    "\n",
    "def create_chromsom_value_all(filename):\n",
    "    chromosom_value=create_chromsom_value_X(filename)\n",
    "    chromosom_value.append(traindata_rate)\n",
    "    return chromosom_value\n",
    "\n",
    "def create_x_tmp(ETF_train,col_list,chromosome):\n",
    "    x_tmp=[]\n",
    "    for index in range(0,len(col_list)-1):\n",
    "        if chromosome[index] ==1:\n",
    "            x_tmp.append(ETF_train[col_list[index]])\n",
    "    return x_tmp\n",
    "\n",
    "\n",
    "def Logistic_Regressionn_model(filename,chromsome):\n",
    "    # 載入資料\n",
    "    ETF_train = pd.read_csv(filename)\n",
    "    col_list=list(ETF_train.columns)\n",
    "\n",
    "    traindata_rate=chromsome[len(col_list)-1]\n",
    "\n",
    "    # 建立訓練與測試資料\n",
    "    x_tmp=create_x_tmp(ETF_train,col_list,chromsome)\n",
    "    ETF_X = pd.DataFrame(x_tmp).T\n",
    "    ETF_Y = ETF_train[\"Y\"]\n",
    "\n",
    "    train_X=ETF_X[:round(len(ETF_train)*traindata_rate)]\n",
    "    test_X=ETF_X[round(len(ETF_train)*traindata_rate):]\n",
    "    train_Y=ETF_Y[:round(len(ETF_train)*traindata_rate)]\n",
    "    test_Y=ETF_Y[round(len(ETF_train)*traindata_rate):]\n",
    "\n",
    "    # 建立 random forest 模型\n",
    "    logistic_regr = linear_model.LogisticRegression()\n",
    "    logistic_regr.fit(train_X,train_Y)\n",
    "\n",
    "    survived_predictions = logistic_regr.predict(test_X)\n",
    "    accuracy = logistic_regr.score(test_X,test_Y)\n",
    "    return accuracy"
   ]
  },
  {
   "cell_type": "markdown",
   "metadata": {},
   "source": [
    "# GA Function"
   ]
  },
  {
   "cell_type": "code",
   "execution_count": 13,
   "metadata": {
    "collapsed": true
   },
   "outputs": [],
   "source": [
    "filename='featured/0053_01.csv'\n",
    "chromosom_value=create_chromsom_value_all(filename)\n",
    "\n",
    "import random\n",
    "def createrandomList(create_number,category):\n",
    "    list_random = [ random.randint(0,category) for i in range(create_number)]\n",
    "    return(list_random)\n",
    "\n",
    "#init create population chromosome(100)--function input：filename & population, output：population_list \n",
    "def create_population(population):\n",
    "    population_list=[]\n",
    "    for popu in range(population):\n",
    "        chromosome_create=[]\n",
    "        for index in chromosom_value:\n",
    "            chromosome_create.append(index[createrandomList(1,len(index)-1)[0]]) #從chromosom_value隨機產生一個值塞到\n",
    "        population_list.append(chromosome_create)\n",
    "    return population_list\n",
    "\n",
    "def cross(cross_rate,chromosome_1,chromosome_2):\n",
    "    random_rate=random.random()\n",
    "    if(random_rate>cross_rate):\n",
    "        point_1=random.randint(0,len(chromosome_1)-1)\n",
    "        point_2=random.randint(0,len(chromosome_1)-1)\n",
    "\n",
    "        while(point_1>=point_2):\n",
    "            point_1=random.randint(0,len(chromosome_1)-1)\n",
    "            point_2=random.randint(0,len(chromosome_1)-1)\n",
    "\n",
    "#         print(\"cross_point1: \"+str(point_1))\n",
    "#         print(\"cross_point2: \"+str(point_2))\n",
    "#         print(\"cross_len_chromosome_1= \"+str(len(chromosome_1)))\n",
    "#         print(\"cross_len_chromosome_2= \"+str(len(chromosome_2)))\n",
    "\n",
    "        tmp=0\n",
    "        for index in range(point_1,point_2+1):\n",
    "            tmp=chromosome_1[index]\n",
    "            chromosome_1[index]=chromosome_2[index]\n",
    "            chromosome_2[index]=tmp\n",
    "    return chromosome_1\n",
    "\n",
    "def mutation(mutation_rate,chromosome):\n",
    "    random_rate=random.random()\n",
    "    if(random_rate>mutation_rate):\n",
    "#         print(\"mutation_start\")\n",
    "        point_1=random.randint(0,len(chromosome)-1)#產生二個隨機point1 & point2 為了到時候mutation\n",
    "        point_2=random.randint(0,len(chromosome)-1)\n",
    "        while(point_1==point_2):#如果point1 point2 一樣要重新產生\n",
    "            point_1=random.randint(0,len(chromosome)-1)\n",
    "            point_2=random.randint(0,len(chromosome)-1)\n",
    "#         print(\"mu_point1= \"+str(point_1))\n",
    "#         print(\"mu_point2= \"+str(point_2))\n",
    "\n",
    "        tmp=chromosome[point_1]#改變染色體中第point1的值，如果產生的新值與舊的一樣要再重新產生\n",
    "        #chromosome[point_1]值等於chromosom_value裡面隨機產生的一個值createrandomList(1,len(chromosom_value[point_1])-1)[0]\n",
    "        chromosome[point_1]=chromosom_value[point_1][createrandomList(1,len(chromosom_value[point_1])-1)[0]]#\n",
    "        while(tmp==chromosome[point_1]):\n",
    "            chromosome[point_1]=chromosom_value[point_1][createrandomList(1,len(chromosom_value[point_1])-1)[0]]\n",
    "\n",
    "        tmp_2=chromosome[point_2]#改變染色體中第point2的值，如果產生的新值與舊的一樣要再重新產生\n",
    "        chromosome[point_2]=chromosom_value[point_2][createrandomList(1,len(chromosom_value[point_2])-1)[0]]\n",
    "        while(tmp_2==chromosome[point_2]):\n",
    "            chromosome[point_2]=chromosom_value[point_2][createrandomList(1,len(chromosom_value[point_2])-1)[0]]\n",
    "    return chromosome\n",
    "\n",
    "def calculateY_rank(rank_number,population_list,filename):\n",
    "    result_all_x_fitness=[]#記錄所有population與產生的y\n",
    "    best_result=[]#記錄最好的population&y\n",
    "\n",
    "    for index in population_list:\n",
    "        fitness_value=Logistic_Regressionn_model(filename,index)#calculate fintness_value\n",
    "        result_all_x_fitness.append([fitness_value,index])\n",
    "    \n",
    "    result_rank=[]#record before rank\"s x & fitness_value\n",
    "    for index in range(0,rank_number):\n",
    "        result_rank.append(sorted(result_all_x_fitness,reverse=True)[index])#sort:big->small\n",
    "    best_result=result_rank[0]\n",
    "    \n",
    "    x_final=[]#記錄前十五名的染色體\n",
    "    for index in result_rank:\n",
    "        x_final.append(index[1])\n",
    "    return [x_final,best_result]\n",
    "\n",
    "#產生新的X(上一代最好的前15個交配+突變產生新的15個+隨機產生85個新的x)--function\n",
    "def create_new_x(rank_number,population,cross_rate,mutation_rate,x_final):\n",
    "    new_x=[]\n",
    "    #先把前15名的染色體做交配&突變->產生新15個染色體\n",
    "    for index in range(0,rank_number):\n",
    "        other_ch=createrandomList(1,rank_number-1)[0]\n",
    "        while(index==other_ch):\n",
    "            other_ch=createrandomList(1,rank_number-1)[0] #變矩陣要減1 if index= other_ch -> create other_ch again\n",
    "#         print(\"i_th chromosome: \"+str(index))\n",
    "#         print(\"other_random_chromosome: \"+str(other_ch))\n",
    "        cross_result=cross(cross_rate,x_final[index],x_final[other_ch])\n",
    "        new_x.append(mutation(mutation_rate,cross_result))\n",
    "\n",
    "    #隨機產生第16~100的染色體\n",
    "    for index in range(0,population-rank_number):\n",
    "        new_x.append(create_population(1)[0])\n",
    "    return new_x"
   ]
  },
  {
   "cell_type": "markdown",
   "metadata": {},
   "source": [
    "# Main:Logistic Regression+GA"
   ]
  },
  {
   "cell_type": "code",
   "execution_count": 21,
   "metadata": {
    "scrolled": false
   },
   "outputs": [
    {
     "name": "stdout",
     "output_type": "stream",
     "text": [
      "featured/0053_01.csv\n",
      "Start GA: 2018-05-28 16:16:26.403135\n",
      "\n",
      "iteration_now= 1\n",
      "y_now= 0.535809018568\n",
      "y_best= 0.535809018568\n",
      "\n",
      "iteration_now= 2\n",
      "y_now= 0.595238095238\n",
      "y_best= 0.595238095238\n",
      "\n",
      "iteration_now= 3\n",
      "y_now= 0.587301587302\n",
      "y_best= 0.595238095238\n",
      "\n",
      "iteration_now= 4\n",
      "y_now= 0.587301587302\n",
      "y_best= 0.595238095238\n",
      "\n",
      "iteration_now= 5\n",
      "y_now= 0.603174603175\n",
      "y_best= 0.603174603175\n",
      "\n",
      "iteration_now= 6\n",
      "y_now= 0.571428571429\n",
      "y_best= 0.603174603175\n",
      "\n",
      "iteration_now= 7\n",
      "y_now= 0.571428571429\n",
      "y_best= 0.603174603175\n",
      "\n",
      "iteration_now= 8\n",
      "y_now= 0.595238095238\n",
      "y_best= 0.603174603175\n",
      "\n",
      "iteration_now= 9\n",
      "y_now= 0.579365079365\n",
      "y_best= 0.603174603175\n",
      "\n",
      "iteration_now= 10\n",
      "y_now= 0.595238095238\n",
      "y_best= 0.603174603175\n",
      "\n",
      "iteration_now= 11\n",
      "y_now= 0.571428571429\n",
      "y_best= 0.603174603175\n",
      "\n",
      "iteration_now= 12\n",
      "y_now= 0.571428571429\n",
      "y_best= 0.603174603175\n",
      "\n",
      "iteration_now= 13\n",
      "y_now= 0.571428571429\n",
      "y_best= 0.603174603175\n",
      "\n",
      "iteration_now= 14\n",
      "y_now= 0.555555555556\n",
      "y_best= 0.603174603175\n",
      "\n",
      "iteration_now= 15\n",
      "y_now= 0.579365079365\n",
      "y_best= 0.603174603175\n",
      "\n",
      "iteration_now= 16\n",
      "y_now= 0.579365079365\n",
      "y_best= 0.603174603175\n",
      "\n",
      "iteration_now= 17\n",
      "y_now= 0.563492063492\n",
      "y_best= 0.603174603175\n",
      "\n",
      "iteration_now= 18\n",
      "y_now= 0.555555555556\n",
      "y_best= 0.603174603175\n",
      "\n",
      "iteration_now= 19\n",
      "y_now= 0.563492063492\n",
      "y_best= 0.603174603175\n",
      "\n",
      "iteration_now= 20\n",
      "y_now= 0.571428571429\n",
      "y_best= 0.603174603175\n",
      "\n",
      "iteration_now= 21\n",
      "y_now= 0.579365079365\n",
      "y_best= 0.603174603175\n",
      "\n",
      "iteration_now= 22\n",
      "y_now= 0.579365079365\n",
      "y_best= 0.603174603175\n",
      "\n",
      "iteration_now= 23\n",
      "y_now= 0.619047619048\n",
      "y_best= 0.619047619048\n",
      "\n",
      "iteration_now= 24\n",
      "y_now= 0.579365079365\n",
      "y_best= 0.619047619048\n",
      "\n",
      "iteration_now= 25\n",
      "y_now= 0.555555555556\n",
      "y_best= 0.619047619048\n",
      "\n",
      "iteration_now= 26\n",
      "y_now= 0.547619047619\n",
      "y_best= 0.619047619048\n",
      "\n",
      "iteration_now= 27\n",
      "y_now= 0.539682539683\n",
      "y_best= 0.619047619048\n",
      "\n",
      "iteration_now= 28\n",
      "y_now= 0.595238095238\n",
      "y_best= 0.619047619048\n",
      "\n",
      "iteration_now= 29\n",
      "y_now= 0.595238095238\n",
      "y_best= 0.619047619048\n",
      "\n",
      "iteration_now= 30\n",
      "y_now= 0.547619047619\n",
      "y_best= 0.619047619048\n",
      "\n",
      "iteration_now= 31\n",
      "y_now= 0.539682539683\n",
      "y_best= 0.619047619048\n",
      "\n",
      "iteration_now= 32\n",
      "y_now= 0.563492063492\n",
      "y_best= 0.619047619048\n",
      "\n",
      "iteration_now= 33\n",
      "y_now= 0.555555555556\n",
      "y_best= 0.619047619048\n",
      "\n",
      "iteration_now= 34\n",
      "y_now= 0.547619047619\n",
      "y_best= 0.619047619048\n",
      "\n",
      "iteration_now= 35\n",
      "y_now= 0.571428571429\n",
      "y_best= 0.619047619048\n",
      "\n",
      "iteration_now= 36\n",
      "y_now= 0.563492063492\n",
      "y_best= 0.619047619048\n",
      "\n",
      "iteration_now= 37\n",
      "y_now= 0.555555555556\n",
      "y_best= 0.619047619048\n",
      "\n",
      "iteration_now= 38\n",
      "y_now= 0.571428571429\n",
      "y_best= 0.619047619048\n",
      "\n",
      "iteration_now= 39\n",
      "y_now= 0.563492063492\n",
      "y_best= 0.619047619048\n",
      "\n",
      "iteration_now= 40\n",
      "y_now= 0.571428571429\n",
      "y_best= 0.619047619048\n",
      "\n",
      "iteration_now= 41\n",
      "y_now= 0.571428571429\n",
      "y_best= 0.619047619048\n",
      "\n",
      "iteration_now= 42\n",
      "y_now= 0.587301587302\n",
      "y_best= 0.619047619048\n",
      "\n",
      "iteration_now= 43\n",
      "y_now= 0.579365079365\n",
      "y_best= 0.619047619048\n",
      "\n",
      "iteration_now= 44\n",
      "y_now= 0.571428571429\n",
      "y_best= 0.619047619048\n",
      "\n",
      "iteration_now= 45\n",
      "y_now= 0.563492063492\n",
      "y_best= 0.619047619048\n",
      "\n",
      "iteration_now= 46\n",
      "y_now= 0.571428571429\n",
      "y_best= 0.619047619048\n",
      "\n",
      "iteration_now= 47\n",
      "y_now= 0.579365079365\n",
      "y_best= 0.619047619048\n",
      "\n",
      "iteration_now= 48\n",
      "y_now= 0.563492063492\n",
      "y_best= 0.619047619048\n",
      "\n",
      "iteration_now= 49\n",
      "y_now= 0.563492063492\n",
      "y_best= 0.619047619048\n",
      "\n",
      "iteration_now= 50\n",
      "y_now= 0.563492063492\n",
      "y_best= 0.619047619048\n",
      "\n",
      "iteration_now= 51\n",
      "y_now= 0.587301587302\n",
      "y_best= 0.619047619048\n",
      "\n",
      "iteration_now= 52\n",
      "y_now= 0.571428571429\n",
      "y_best= 0.619047619048\n",
      "\n",
      "iteration_now= 53\n",
      "y_now= 0.595238095238\n",
      "y_best= 0.619047619048\n",
      "\n",
      "iteration_now= 54\n",
      "y_now= 0.587301587302\n",
      "y_best= 0.619047619048\n",
      "\n",
      "iteration_now= 55\n",
      "y_now= 0.603174603175\n",
      "y_best= 0.619047619048\n",
      "\n",
      "iteration_now= 56\n",
      "y_now= 0.535809018568\n",
      "y_best= 0.619047619048\n",
      "\n",
      "iteration_now= 57\n",
      "y_now= 0.539682539683\n",
      "y_best= 0.619047619048\n",
      "\n",
      "iteration_now= 58\n",
      "y_now= 0.543650793651\n",
      "y_best= 0.619047619048\n",
      "\n",
      "iteration_now= 59\n",
      "y_now= 0.563492063492\n",
      "y_best= 0.619047619048\n",
      "\n",
      "iteration_now= 60\n",
      "y_now= 0.571428571429\n",
      "y_best= 0.619047619048\n",
      "iteration_now= 60\n",
      "y_best= 0.619047619048\n",
      "x_best= [1, 0, 1, 0, 1, 1, 1, 1, 0, 0, 0, 0, 0, 1, 1, 0, 1, 0, 0, 0, 1, 1, 1, 1, 0, 1, 0, 0, 1, 0, 1, 0, 1, 1, 0, 1, 1, 1, 1, 1, 0, 1, 0, 1, 1, 1, 1, 0, 0, 0, 1, 0, 1, 0, 1, 0, 0, 1, 1, 0, 0, 0, 0, 0, 1, 1, 1, 0, 1, 1, 0, 0, 1, 0, 1, 1, 0, 1, 0.9]\n",
      "GA's end time is 2018-05-28 16:26:56.575178\n",
      "All time spends:  0:10:30.173043\n"
     ]
    }
   ],
   "source": [
    "#GA + regression ->main\n",
    "print(filename)\n",
    "import datetime\n",
    "#init parameter\n",
    "#filename='0051_random.csv'\n",
    "iteration=60\n",
    "iteration_now=0\n",
    "population=100\n",
    "rank_number=10\n",
    "\n",
    "cross_rate=0.3\n",
    "mutation_rate=0.3\n",
    "\n",
    "y_target=20000#fitnessvalue的目標，到達就停止迭代\n",
    "y_best=-1#目前為止(所有迭代中)最好的fitnessvalue\n",
    "y_now=-1#當前此迭代中最好的fitnessvalue\n",
    "x_best=[]\n",
    "y_best_everyiteration=[]\n",
    "\n",
    "population_list=create_population(population)#產生初始母體染色體\n",
    "\n",
    "Totalstarttime=datetime.datetime.now()\n",
    "print(\"Start GA: \"+str(Totalstarttime))\n",
    "while(not(iteration_now>=iteration or y_best>y_target)):\n",
    "    iteration_now=iteration_now+1\n",
    "    print(\"\\niteration_now= \"+str(iteration_now))\n",
    "    Y=calculateY_rank(rank_number,population_list,filename) #return X_final(前15名的染色體) & best_result(此代最好的fitness跟染色體)\n",
    "    y_now=Y[1][0]\n",
    "    print(\"y_now= \"+str(y_now))\n",
    "    if y_now>y_best:\n",
    "        y_best=y_now\n",
    "        x_best=Y[1][1]\n",
    "        #print(\"x_best= \"+str(x_best))\n",
    "    print(\"y_best= \"+str(y_best))\n",
    "    y_best_everyiteration.append(y_best)\n",
    "    population_list=create_new_x(rank_number,population,cross_rate,mutation_rate,Y[0])\n",
    "\n",
    "print(\"iteration_now= \"+str(iteration_now))\n",
    "print(\"y_best= \"+str(y_best))\n",
    "print(\"x_best= \"+str(x_best))\n",
    "\n",
    "print(\"GA's end time is \"+str(datetime.datetime.now()))\n",
    "print(\"All time spends:  \"+str(datetime.datetime.now()-Totalstarttime))\n"
   ]
  },
  {
   "cell_type": "markdown",
   "metadata": {},
   "source": [
    "# GA 迭代圖"
   ]
  },
  {
   "cell_type": "code",
   "execution_count": 22,
   "metadata": {
    "scrolled": false
   },
   "outputs": [
    {
     "data": {
      "image/png": "[encoded data removed]",
      "text/plain": [
       "<matplotlib.figure.Figure at 0xee94b00>"
      ]
     },
     "metadata": {},
     "output_type": "display_data"
    },
    {
     "name": "stdout",
     "output_type": "stream",
     "text": [
      "featured/0053_01.csv\n"
     ]
    }
   ],
   "source": [
    "import matplotlib.pyplot as plt\n",
    "plt.plot(list(range(1,iteration+1)),y_best_everyiteration)\n",
    "plt.xlabel(\"GA_literation\")\n",
    "plt.ylabel(\"Logistic_Acc\")\n",
    "plt.show()\n",
    "print(filename)"
   ]
  },
  {
   "cell_type": "code",
   "execution_count": 69,
   "metadata": {},
   "outputs": [
    {
     "name": "stdout",
     "output_type": "stream",
     "text": [
      "[1, 2, 3, 4]\n"
     ]
    }
   ],
   "source": [
    "print(list(range(1,5)))"
   ]
  },
  {
   "cell_type": "markdown",
   "metadata": {},
   "source": [
    "# 圖_TRY"
   ]
  },
  {
   "cell_type": "code",
   "execution_count": 23,
   "metadata": {},
   "outputs": [
    {
     "name": "stdout",
     "output_type": "stream",
     "text": [
      "0.507936507937\n"
     ]
    }
   ],
   "source": [
    "#x_best= [1, 1, 1, 0, 0, 0, 1, 0, 1, 1, 1, 0, 1, 0, 0, 1, 0, 0, 0, 0, 1, 1, 0, 1, 0, 1, 1, 1, 0, 0, 1, 1, 0, 0, 0, 0, 1, 0, 0, 1, 0, 1, 1, 1, 0, 0, 1, 1, 1, 1, 0, 0, 0, 0, 1, 1, 0, 1, 1, 1, 0, 0, 0, 0, 0, 0, 1, 1, 1, 1, 1, 1, 0, 0, 0, 1, 0.8]\n",
    "#filename='0051_random.csv'\n",
    "chromsome=x_best\n",
    "\n",
    "ETF_train = pd.read_csv(filename)\n",
    "col_list=list(ETF_train.columns)\n",
    "\n",
    "traindata_rate=chromsome[len(col_list)-1]\n",
    "\n",
    "# 建立訓練與測試資料\n",
    "x_tmp=create_x_tmp(ETF_train,col_list,chromsome)\n",
    "ETF_X = pd.DataFrame(x_tmp).T\n",
    "ETF_Y = ETF_train[\"Y\"]\n",
    "\n",
    "train_X=ETF_X[:round(len(ETF_train)*traindata_rate)]\n",
    "test_X=ETF_X[round(len(ETF_train)*traindata_rate):]\n",
    "train_Y=ETF_Y[:round(len(ETF_train)*traindata_rate)]\n",
    "test_Y=ETF_Y[round(len(ETF_train)*traindata_rate):]\n",
    "\n",
    "# 建立 random forest 模型\n",
    "logistic_regr = linear_model.LogisticRegression()\n",
    "logistic_regr.fit(train_X,train_Y)\n",
    "\n",
    "survived_predictions = logistic_regr.predict(test_X)\n",
    "accuracy = logistic_regr.score(test_X,test_Y)\n",
    "print(accuracy)"
   ]
  },
  {
   "cell_type": "code",
   "execution_count": 25,
   "metadata": {
    "scrolled": true
   },
   "outputs": [
    {
     "name": "stdout",
     "output_type": "stream",
     "text": [
      "混淆矩陣:\n",
      "  [[21 40]\n",
      " [22 43]]\n",
      "Confusion matrix, without normalization\n",
      "[[21 40]\n",
      " [22 43]]\n"
     ]
    },
    {
     "data": {
      "image/png": "[encoded data removed]",
      "text/plain": [
       "<matplotlib.figure.Figure at 0xeea3780>"
      ]
     },
     "metadata": {},
     "output_type": "display_data"
    },
    {
     "name": "stdout",
     "output_type": "stream",
     "text": [
      "featured/0053_01.csv\n"
     ]
    }
   ],
   "source": [
    "from sklearn.metrics import confusion_matrix\n",
    "cnf=confusion_matrix(test_Y,logistic_regr.predict(test_X))\n",
    "print('混淆矩陣:\\n ',cnf)\n",
    "\n",
    "import itertools\n",
    "target_name=['up','down'] #是否生存 \n",
    "plot_confusion_matrix(cnf,classes=target_name,title='confusion_matrix')\n",
    "plt.show()\n",
    "print(filename)\n",
    "\n",
    " "
   ]
  },
  {
   "cell_type": "code",
   "execution_count": 26,
   "metadata": {},
   "outputs": [
    {
     "data": {
      "text/plain": [
       "array([0, 1, 0, 0, 1, 1, 1, 1, 1, 1, 1, 0, 1, 1, 1, 1, 1, 1, 1, 1, 0, 1, 1,\n",
       "       1, 0, 0, 0, 0, 0, 0, 1, 0, 0, 0, 0, 0, 1, 0, 1, 1, 1, 1, 1, 1, 1, 1,\n",
       "       1, 1, 1, 1, 1, 1, 1, 1, 1, 1, 1, 1, 1, 1, 0, 1, 1, 0, 1, 1, 1, 1, 1,\n",
       "       1, 0, 1, 1, 1, 0, 1, 1, 1, 1, 0, 1, 0, 0, 0, 1, 1, 0, 0, 1, 0, 1, 1,\n",
       "       0, 0, 0, 1, 1, 1, 1, 1, 0, 1, 0, 1, 0, 0, 0, 0, 1, 1, 1, 0, 1, 1, 1,\n",
       "       0, 1, 1, 1, 1, 0, 0, 1, 0, 0, 1], dtype=int64)"
      ]
     },
     "execution_count": 26,
     "metadata": {},
     "output_type": "execute_result"
    }
   ],
   "source": [
    "survived_predictions = logistic_regr.predict(test_X)\n",
    "survived_predictions"
   ]
  },
  {
   "cell_type": "code",
   "execution_count": 8,
   "metadata": {
    "collapsed": true
   },
   "outputs": [],
   "source": [
    "def plot_confusion_matrix(cm, classes,\n",
    "                          normalize=False,\n",
    "                          title='Confusion matrix',\n",
    "                          cmap=plt.cm.Blues):\n",
    "    \"\"\"\n",
    "    This function prints and plots the confusion matrix.\n",
    "    Normalization can be applied by setting `normalize=True`.\n",
    "    \"\"\"\n",
    "    if normalize:\n",
    "        cm = cm.astype('float') / cm.sum(axis=1)[:, np.newaxis]\n",
    "        print(\"Normalized confusion matrix\")\n",
    "    else:\n",
    "        print('Confusion matrix, without normalization')\n",
    "\n",
    "    print(cm)\n",
    "\n",
    "    plt.imshow(cm, interpolation='nearest', cmap=cmap)\n",
    "    plt.title(title)\n",
    "    plt.colorbar()\n",
    "    tick_marks = np.arange(len(classes))\n",
    "    plt.xticks(tick_marks, classes, rotation=45)\n",
    "    plt.yticks(tick_marks, classes)\n",
    "\n",
    "    fmt = '.2f' if normalize else 'd'\n",
    "    thresh = cm.max() / 2.\n",
    "    for i, j in itertools.product(range(cm.shape[0]), range(cm.shape[1])):\n",
    "        plt.text(j, i, format(cm[i, j], fmt),\n",
    "                 horizontalalignment=\"center\",\n",
    "                 color=\"white\" if cm[i, j] > thresh else \"black\")\n",
    "\n",
    "    plt.tight_layout()\n",
    "    plt.ylabel('True label')\n",
    "    plt.xlabel('Predicted label')"
   ]
  },
  {
   "cell_type": "code",
   "execution_count": 21,
   "metadata": {},
   "outputs": [
    {
     "name": "stdout",
     "output_type": "stream",
     "text": [
      "[[ -5.65039627e-01   2.25689845e-01   7.79369368e-01  -7.72960127e-01\n",
      "   -2.74045018e-03  -1.13385608e-02   4.13540931e-02  -4.90685778e-01\n",
      "   -3.33325510e-01  -3.61625485e-02  -1.49277229e-01  -9.46476839e-02\n",
      "   -2.29882478e-01   3.41720214e-01  -2.29889638e-01  -1.75977120e-01\n",
      "   -1.53116544e-01   1.80036387e-02   1.30392538e-01   1.40964733e-01\n",
      "    1.07007354e-01   4.54690829e-02   3.71463926e-01  -4.17735074e-01\n",
      "    2.50310741e-01   2.00562289e-01  -4.03797370e-03   7.80903845e-03\n",
      "    7.03098313e-04   1.36964123e-02  -1.50736938e-02   7.32612585e-03\n",
      "   -3.43815639e-03   1.35334701e-02  -2.21590982e-02   1.24657433e-02\n",
      "    4.22305996e-01  -2.11014595e-01]]\n",
      "[-0.04676983]\n",
      "(array([ 6.1527018 ,  6.31914515,  6.11942239,  2.77490678,  1.31255714,\n",
      "        0.76511454,  1.32831953,  6.61533446,  8.27710023,  0.10627416,\n",
      "        0.08708922,  6.5149674 ,  7.6467072 ,  8.14421264,  6.3950553 ,\n",
      "        6.35019416,  6.3343123 ,  6.27684582,  6.32876747,  6.4774571 ,\n",
      "        6.61794639,  6.82936656,  8.03267483,  6.77962113,  6.28261597,\n",
      "        6.88620973,  0.11263604,  3.15986337,  0.7197801 ,  2.62663797,\n",
      "        1.27570378,  5.29390542,  5.67715676,  6.92085455,  2.26023686,\n",
      "        9.94374855,  0.97335725,  0.0464993 ]), array([ 0.01332631,  0.01213994,  0.01357751,  0.0961447 ,  0.25227564,\n",
      "        0.38199584,  0.24944953,  0.01029028,  0.00412191,  0.74451196,\n",
      "        0.76798751,  0.01088219,  0.00581892,  0.00443175,  0.01163551,\n",
      "        0.01193095,  0.01203738,  0.01243073,  0.01207477,  0.01111229,\n",
      "        0.01027533,  0.00913596,  0.00471011,  0.00939182,  0.01239064,\n",
      "        0.00885235,  0.73725099,  0.07585027,  0.39647046,  0.10547906,\n",
      "        0.25903877,  0.02165717,  0.01742041,  0.00868393,  0.13312939,\n",
      "        0.00167438,  0.32414335,  0.82932584]))\n"
     ]
    }
   ],
   "source": [
    "# 印出係數\n",
    "print(logistic_regr.coef_)\n",
    "\n",
    "# 印出截距\n",
    "print(logistic_regr.intercept_ )\n",
    "\n",
    "# 印出 p-value\n",
    "print(f_regression(train_X, train_Y))"
   ]
  },
  {
   "cell_type": "code",
   "execution_count": null,
   "metadata": {
    "collapsed": true
   },
   "outputs": [],
   "source": []
  },
  {
   "cell_type": "code",
   "execution_count": null,
   "metadata": {
    "collapsed": true
   },
   "outputs": [],
   "source": []
  },
  {
   "cell_type": "code",
   "execution_count": 16,
   "metadata": {},
   "outputs": [
    {
     "ename": "AttributeError",
     "evalue": "'LogisticRegression' object has no attribute 'summary'",
     "output_type": "error",
     "traceback": [
      "\u001b[1;31m---------------------------------------------------------------------------\u001b[0m",
      "\u001b[1;31mAttributeError\u001b[0m                            Traceback (most recent call last)",
      "\u001b[1;32m<ipython-input-16-e4c5793a920d>\u001b[0m in \u001b[0;36m<module>\u001b[1;34m()\u001b[0m\n\u001b[1;32m----> 1\u001b[1;33m \u001b[0mlogistic_regr\u001b[0m\u001b[1;33m.\u001b[0m\u001b[0msummary\u001b[0m\u001b[1;33m\u001b[0m\u001b[0m\n\u001b[0m",
      "\u001b[1;31mAttributeError\u001b[0m: 'LogisticRegression' object has no attribute 'summary'"
     ]
    }
   ],
   "source": [
    "logistic_regr."
   ]
  },
  {
   "cell_type": "code",
   "execution_count": 3,
   "metadata": {
    "collapsed": true
   },
   "outputs": [],
   "source": [
    "from mpl_toolkits.mplot3d import Axes3D\n",
    "import matplotlib.pyplot as plt\n",
    "import numpy as np\n",
    "def plot_logistic(w0,w1,w2):\n",
    "    fig = plt.figure()\n",
    "    ax = fig.gca(projection='3d')\n",
    "    X1, X2 = np.mgrid[-2:2:0.25, -2:2:0.25]\n",
    "    X0 = np.ones(X1.shape)\n",
    "    Z=np.divide(1,1+np.exp(-1*(np.multiply(w0,X0)+np.multiply(w1,X1)+np.multiply(w2,X2)) ))\n",
    "    surf = ax.plot_wireframe(X1, X2, Z, cstride=1, rstride=1)\n",
    "    ax.set_title((\"w0=%s, w1=%s, w2=%s\")%(w0,w1,w2))\n",
    "    plt.show()"
   ]
  },
  {
   "cell_type": "code",
   "execution_count": 4,
   "metadata": {},
   "outputs": [
    {
     "data": {
      "image/png": "[encoded data removed]",
      "text/plain": [
       "<matplotlib.figure.Figure at 0x8a20a20>"
      ]
     },
     "metadata": {},
     "output_type": "display_data"
    }
   ],
   "source": [
    "plot_logistic(0,1,1)"
   ]
  }
 ],
 "metadata": {
  "kernelspec": {
   "display_name": "Python 3",
   "language": "python",
   "name": "python3"
  },
  "language_info": {
   "codemirror_mode": {
    "name": "ipython",
    "version": 3
   },
   "file_extension": ".py",
   "mimetype": "text/x-python",
   "name": "python",
   "nbconvert_exporter": "python",
   "pygments_lexer": "ipython3",
   "version": "3.6.3"
  }
 },
 "nbformat": 4,
 "nbformat_minor": 2
}
