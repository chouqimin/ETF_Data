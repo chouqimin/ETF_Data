{
 "cells": [
  {
   "cell_type": "code",
   "execution_count": 16,
   "metadata": {
    "collapsed": true
   },
   "outputs": [],
   "source": [
    "traindata_rate=[0.7,0.8,0.9]"
   ]
  },
  {
   "cell_type": "markdown",
   "metadata": {},
   "source": [
    "# Fitness Function"
   ]
  },
  {
   "cell_type": "code",
   "execution_count": 20,
   "metadata": {},
   "outputs": [],
   "source": [
    "import numpy as np\n",
    "import pandas as pd\n",
    "from sklearn import cross_validation, ensemble, preprocessing, metrics\n",
    "import pandas as pd\n",
    "import numpy as np\n",
    "from sklearn import preprocessing, linear_model\n",
    "from sklearn.feature_selection import f_regression\n",
    "from sklearn.linear_model import LinearRegression\n",
    "\n",
    "def create_chromsom_value_X(filename):\n",
    "    chromosom_value_X=[]\n",
    "    ETF_train = pd.read_csv(filename)\n",
    "    col_list=list(ETF_train.columns)\n",
    "\n",
    "    for index in range(0,len(col_list)-1):\n",
    "        chromosom_value_X.append([0,1])\n",
    "    return chromosom_value_X\n",
    "\n",
    "def create_chromsom_value_all(filename):\n",
    "    chromosom_value=create_chromsom_value_X(filename)\n",
    "    chromosom_value.append(traindata_rate)\n",
    "    return chromosom_value\n",
    "\n",
    "def create_x_tmp(ETF_train,col_list,chromosome):\n",
    "    x_tmp=[]\n",
    "    for index in range(0,len(col_list)-1):\n",
    "        if chromosome[index] ==1:\n",
    "            x_tmp.append(ETF_train[col_list[index]])\n",
    "    return x_tmp\n",
    "\n",
    "\n",
    "def Regressionn_model(filename,chromsome):\n",
    "    # 載入資料\n",
    "    ETF_train = pd.read_csv(filename)\n",
    "    col_list=list(ETF_train.columns)\n",
    "\n",
    "    traindata_rate=chromsome[len(col_list)-1]\n",
    "\n",
    "    # 建立訓練與測試資料\n",
    "    x_tmp=create_x_tmp(ETF_train,col_list,chromsome)\n",
    "    ETF_X = pd.DataFrame(x_tmp).T\n",
    "    ETF_Y = ETF_train[\"Y\"]\n",
    "\n",
    "    train_X=ETF_X[:round(len(ETF_train)*traindata_rate)]\n",
    "    test_X=ETF_X[round(len(ETF_train)*traindata_rate):]\n",
    "    train_Y=ETF_Y[:round(len(ETF_train)*traindata_rate)]\n",
    "    test_Y=ETF_Y[round(len(ETF_train)*traindata_rate):]\n",
    "    \n",
    "    lm=LinearRegression()\n",
    "    lm.fit(train_X,train_Y)\n",
    "    #模型績效(MSE & R^2)\n",
    "    mse=np.mean((lm.predict(test_X)-test_Y)**2)\n",
    "    R_squared=lm.score(test_X,test_Y)-0.2\n",
    "    #adj_r_squared = R_squared - (1 - R_squared) * (test_X.shape[1] / (test_X.shape[0] - test_X.shape[1] - 1))-0.4\n",
    "#     mse=np.mean((lm.predict(train_X)-train_Y)**2)\n",
    "#     R_squared=lm.score(train_X,train_Y)\n",
    "#     adj_r_squared = R_squared - (1 - R_squared) * (train_X.shape[1] / (train_X.shape[0] - train_X.shape[1] - 1))-0.2\n",
    "    return R_squared"
   ]
  },
  {
   "cell_type": "markdown",
   "metadata": {},
   "source": [
    "# GA Function"
   ]
  },
  {
   "cell_type": "code",
   "execution_count": 18,
   "metadata": {
    "collapsed": true
   },
   "outputs": [],
   "source": [
    "filename='featured/00692_close.csv'\n",
    "chromosom_value=create_chromsom_value_all(filename)\n",
    "\n",
    "import random\n",
    "def createrandomList(create_number,category):\n",
    "    list_random = [ random.randint(0,category) for i in range(create_number)]\n",
    "    return(list_random)\n",
    "\n",
    "#init create population chromosome(100)--function input：filename & population, output：population_list \n",
    "def create_population(population):\n",
    "    population_list=[]\n",
    "    for popu in range(population):\n",
    "        chromosome_create=[]\n",
    "        for index in chromosom_value:\n",
    "            chromosome_create.append(index[createrandomList(1,len(index)-1)[0]]) #從chromosom_value隨機產生一個值塞到\n",
    "        population_list.append(chromosome_create)\n",
    "    return population_list\n",
    "\n",
    "def cross(cross_rate,chromosome_1,chromosome_2):\n",
    "    random_rate=random.random()\n",
    "    if(random_rate>cross_rate):\n",
    "        point_1=random.randint(0,len(chromosome_1)-1)\n",
    "        point_2=random.randint(0,len(chromosome_1)-1)\n",
    "\n",
    "        while(point_1>=point_2):\n",
    "            point_1=random.randint(0,len(chromosome_1)-1)\n",
    "            point_2=random.randint(0,len(chromosome_1)-1)\n",
    "\n",
    "#         print(\"cross_point1: \"+str(point_1))\n",
    "#         print(\"cross_point2: \"+str(point_2))\n",
    "#         print(\"cross_len_chromosome_1= \"+str(len(chromosome_1)))\n",
    "#         print(\"cross_len_chromosome_2= \"+str(len(chromosome_2)))\n",
    "\n",
    "        tmp=0\n",
    "        for index in range(point_1,point_2+1):\n",
    "            tmp=chromosome_1[index]\n",
    "            chromosome_1[index]=chromosome_2[index]\n",
    "            chromosome_2[index]=tmp\n",
    "    return chromosome_1\n",
    "\n",
    "def mutation(mutation_rate,chromosome):\n",
    "    random_rate=random.random()\n",
    "    if(random_rate>mutation_rate):\n",
    "#         print(\"mutation_start\")\n",
    "        point_1=random.randint(0,len(chromosome)-1)#產生二個隨機point1 & point2 為了到時候mutation\n",
    "        point_2=random.randint(0,len(chromosome)-1)\n",
    "        while(point_1==point_2):#如果point1 point2 一樣要重新產生\n",
    "            point_1=random.randint(0,len(chromosome)-1)\n",
    "            point_2=random.randint(0,len(chromosome)-1)\n",
    "#         print(\"mu_point1= \"+str(point_1))\n",
    "#         print(\"mu_point2= \"+str(point_2))\n",
    "\n",
    "        tmp=chromosome[point_1]#改變染色體中第point1的值，如果產生的新值與舊的一樣要再重新產生\n",
    "        #chromosome[point_1]值等於chromosom_value裡面隨機產生的一個值createrandomList(1,len(chromosom_value[point_1])-1)[0]\n",
    "        chromosome[point_1]=chromosom_value[point_1][createrandomList(1,len(chromosom_value[point_1])-1)[0]]#\n",
    "        while(tmp==chromosome[point_1]):\n",
    "            chromosome[point_1]=chromosom_value[point_1][createrandomList(1,len(chromosom_value[point_1])-1)[0]]\n",
    "\n",
    "        tmp_2=chromosome[point_2]#改變染色體中第point2的值，如果產生的新值與舊的一樣要再重新產生\n",
    "        chromosome[point_2]=chromosom_value[point_2][createrandomList(1,len(chromosom_value[point_2])-1)[0]]\n",
    "        while(tmp_2==chromosome[point_2]):\n",
    "            chromosome[point_2]=chromosom_value[point_2][createrandomList(1,len(chromosom_value[point_2])-1)[0]]\n",
    "    return chromosome\n",
    "\n",
    "def calculateY_rank(rank_number,population_list,filename):\n",
    "    result_all_x_fitness=[]#記錄所有population與產生的y\n",
    "    best_result=[]#記錄最好的population&y\n",
    "\n",
    "    for index in population_list:\n",
    "        fitness_value=Regressionn_model(filename,index)#calculate fintness_value\n",
    "        result_all_x_fitness.append([fitness_value,index])\n",
    "    \n",
    "    result_rank=[]#record before rank\"s x & fitness_value\n",
    "    for index in range(0,rank_number):\n",
    "        result_rank.append(sorted(result_all_x_fitness,reverse=True)[index])#sort:big->small\n",
    "    best_result=result_rank[0]\n",
    "    \n",
    "    x_final=[]#記錄前十五名的染色體\n",
    "    for index in result_rank:\n",
    "        x_final.append(index[1])\n",
    "    return [x_final,best_result]\n",
    "\n",
    "#產生新的X(上一代最好的前15個交配+突變產生新的15個+隨機產生85個新的x)--function\n",
    "def create_new_x(rank_number,population,cross_rate,mutation_rate,x_final):\n",
    "    new_x=[]\n",
    "    #先把前15名的染色體做交配&突變->產生新15個染色體\n",
    "    for index in range(0,rank_number):\n",
    "        other_ch=createrandomList(1,rank_number-1)[0]\n",
    "        while(index==other_ch):\n",
    "            other_ch=createrandomList(1,rank_number-1)[0] #變矩陣要減1 if index= other_ch -> create other_ch again\n",
    "#         print(\"i_th chromosome: \"+str(index))\n",
    "#         print(\"other_random_chromosome: \"+str(other_ch))\n",
    "        cross_result=cross(cross_rate,x_final[index],x_final[other_ch])\n",
    "        new_x.append(mutation(mutation_rate,cross_result))\n",
    "\n",
    "    #隨機產生第16~100的染色體\n",
    "    for index in range(0,population-rank_number):\n",
    "        new_x.append(create_population(1)[0])\n",
    "    return new_x"
   ]
  },
  {
   "cell_type": "code",
   "execution_count": 49,
   "metadata": {
    "collapsed": true
   },
   "outputs": [],
   "source": [
    "chromosom_value=create_chromsom_value_all(filename)\n",
    "#chromosom_value"
   ]
  },
  {
   "cell_type": "markdown",
   "metadata": {},
   "source": [
    "# Main:Regression+GA"
   ]
  },
  {
   "cell_type": "code",
   "execution_count": 21,
   "metadata": {
    "scrolled": false
   },
   "outputs": [
    {
     "name": "stdout",
     "output_type": "stream",
     "text": [
      "featured/00692_close.csv\n",
      "Start GA: 2018-06-02 15:32:49.603894\n",
      "\n",
      "iteration_now= 1\n",
      "y_now= 0.554203454229\n",
      "y_best= 0.554203454229\n",
      "\n",
      "iteration_now= 2\n",
      "y_now= 0.559758416765\n",
      "y_best= 0.559758416765\n",
      "\n",
      "iteration_now= 3\n",
      "y_now= 0.498555503885\n",
      "y_best= 0.559758416765\n",
      "\n",
      "iteration_now= 4\n",
      "y_now= 0.500291150096\n",
      "y_best= 0.559758416765\n",
      "\n",
      "iteration_now= 5\n",
      "y_now= 0.556922242332\n",
      "y_best= 0.559758416765\n",
      "\n",
      "iteration_now= 6\n",
      "y_now= 0.572346488348\n",
      "y_best= 0.572346488348\n",
      "\n",
      "iteration_now= 7\n",
      "y_now= 0.552537551608\n",
      "y_best= 0.572346488348\n",
      "\n",
      "iteration_now= 8\n",
      "y_now= 0.553530320585\n",
      "y_best= 0.572346488348\n",
      "\n",
      "iteration_now= 9\n",
      "y_now= 0.550802258563\n",
      "y_best= 0.572346488348\n",
      "\n",
      "iteration_now= 10\n",
      "y_now= 0.556446545661\n",
      "y_best= 0.572346488348\n",
      "\n",
      "iteration_now= 11\n",
      "y_now= 0.525532513624\n",
      "y_best= 0.572346488348\n",
      "\n",
      "iteration_now= 12\n",
      "y_now= 0.580197308961\n",
      "y_best= 0.580197308961\n",
      "\n",
      "iteration_now= 13\n",
      "y_now= 0.544523407327\n",
      "y_best= 0.580197308961\n",
      "\n",
      "iteration_now= 14\n",
      "y_now= 0.566919275678\n",
      "y_best= 0.580197308961\n",
      "\n",
      "iteration_now= 15\n",
      "y_now= 0.56625225531\n",
      "y_best= 0.580197308961\n",
      "\n",
      "iteration_now= 16\n",
      "y_now= 0.568935065418\n",
      "y_best= 0.580197308961\n",
      "\n",
      "iteration_now= 17\n",
      "y_now= 0.582628799019\n",
      "y_best= 0.582628799019\n",
      "\n",
      "iteration_now= 18\n",
      "y_now= 0.502569215738\n",
      "y_best= 0.582628799019\n",
      "\n",
      "iteration_now= 19\n",
      "y_now= 0.53467141003\n",
      "y_best= 0.582628799019\n",
      "\n",
      "iteration_now= 20\n",
      "y_now= 0.544260454652\n",
      "y_best= 0.582628799019\n",
      "\n",
      "iteration_now= 21\n",
      "y_now= 0.586907929845\n",
      "y_best= 0.586907929845\n",
      "\n",
      "iteration_now= 22\n",
      "y_now= 0.562917395693\n",
      "y_best= 0.586907929845\n",
      "\n",
      "iteration_now= 23\n",
      "y_now= 0.567148199228\n",
      "y_best= 0.586907929845\n",
      "\n",
      "iteration_now= 24\n",
      "y_now= 0.536112782612\n",
      "y_best= 0.586907929845\n",
      "\n",
      "iteration_now= 25\n",
      "y_now= 0.553423058164\n",
      "y_best= 0.586907929845\n",
      "\n",
      "iteration_now= 26\n",
      "y_now= 0.557597619236\n",
      "y_best= 0.586907929845\n",
      "\n",
      "iteration_now= 27\n",
      "y_now= 0.514699016491\n",
      "y_best= 0.586907929845\n",
      "\n",
      "iteration_now= 28\n",
      "y_now= 0.561865261921\n",
      "y_best= 0.586907929845\n",
      "\n",
      "iteration_now= 29\n",
      "y_now= 0.569116517156\n",
      "y_best= 0.586907929845\n",
      "\n",
      "iteration_now= 30\n",
      "y_now= 0.554375664457\n",
      "y_best= 0.586907929845\n",
      "\n",
      "iteration_now= 31\n",
      "y_now= 0.571412558045\n",
      "y_best= 0.586907929845\n",
      "\n",
      "iteration_now= 32\n",
      "y_now= 0.565586552677\n",
      "y_best= 0.586907929845\n",
      "\n",
      "iteration_now= 33\n",
      "y_now= 0.570442193867\n",
      "y_best= 0.586907929845\n",
      "\n",
      "iteration_now= 34\n",
      "y_now= 0.571026277931\n",
      "y_best= 0.586907929845\n",
      "\n",
      "iteration_now= 35\n",
      "y_now= 0.576023171729\n",
      "y_best= 0.586907929845\n",
      "\n",
      "iteration_now= 36\n",
      "y_now= 0.583609274387\n",
      "y_best= 0.586907929845\n",
      "\n",
      "iteration_now= 37\n",
      "y_now= 0.563813561905\n",
      "y_best= 0.586907929845\n",
      "\n",
      "iteration_now= 38\n",
      "y_now= 0.55206513187\n",
      "y_best= 0.586907929845\n",
      "\n",
      "iteration_now= 39\n",
      "y_now= 0.571190945714\n",
      "y_best= 0.586907929845\n",
      "\n",
      "iteration_now= 40\n",
      "y_now= 0.556694063723\n",
      "y_best= 0.586907929845\n",
      "\n",
      "iteration_now= 41\n",
      "y_now= 0.588720176598\n",
      "y_best= 0.588720176598\n",
      "\n",
      "iteration_now= 42\n",
      "y_now= 0.584102602366\n",
      "y_best= 0.588720176598\n",
      "\n",
      "iteration_now= 43\n",
      "y_now= 0.52879554395\n",
      "y_best= 0.588720176598\n",
      "\n",
      "iteration_now= 44\n",
      "y_now= 0.538410025709\n",
      "y_best= 0.588720176598\n",
      "\n",
      "iteration_now= 45\n",
      "y_now= 0.537840164598\n",
      "y_best= 0.588720176598\n",
      "\n",
      "iteration_now= 46\n",
      "y_now= 0.55577678794\n",
      "y_best= 0.588720176598\n",
      "\n",
      "iteration_now= 47\n",
      "y_now= 0.575015435129\n",
      "y_best= 0.588720176598\n",
      "\n",
      "iteration_now= 48\n",
      "y_now= 0.569656063123\n",
      "y_best= 0.588720176598\n",
      "\n",
      "iteration_now= 49\n",
      "y_now= 0.569656063123\n",
      "y_best= 0.588720176598\n",
      "\n",
      "iteration_now= 50\n",
      "y_now= 0.547225268767\n",
      "y_best= 0.588720176598\n",
      "\n",
      "iteration_now= 51\n",
      "y_now= 0.545964208684\n",
      "y_best= 0.588720176598\n",
      "\n",
      "iteration_now= 52\n",
      "y_now= 0.526936114671\n",
      "y_best= 0.588720176598\n",
      "\n",
      "iteration_now= 53\n",
      "y_now= 0.548131256919\n",
      "y_best= 0.588720176598\n",
      "\n",
      "iteration_now= 54\n",
      "y_now= 0.568854423083\n",
      "y_best= 0.588720176598\n",
      "\n",
      "iteration_now= 55\n",
      "y_now= 0.535687578584\n",
      "y_best= 0.588720176598\n",
      "\n",
      "iteration_now= 56\n",
      "y_now= 0.557984048022\n",
      "y_best= 0.588720176598\n",
      "\n",
      "iteration_now= 57\n",
      "y_now= 0.582793960512\n",
      "y_best= 0.588720176598\n",
      "\n",
      "iteration_now= 58\n",
      "y_now= 0.580853772073\n",
      "y_best= 0.588720176598\n",
      "\n",
      "iteration_now= 59\n",
      "y_now= 0.543125252442\n",
      "y_best= 0.588720176598\n",
      "\n",
      "iteration_now= 60\n",
      "y_now= 0.592541533194\n",
      "y_best= 0.592541533194\n",
      "iteration_now= 60\n",
      "y_best= 0.592541533194\n",
      "x_best= [0, 0, 1, 1, 0, 0, 0, 0, 0, 1, 1, 0, 1, 1, 1, 0, 0, 0, 0, 1, 0, 0, 0, 0, 0, 1, 0, 1, 1, 1, 1, 0, 1, 1, 1, 1, 1, 1, 0, 0, 0, 1, 1, 0, 0, 0, 0, 0, 1, 1, 1, 1, 1, 0, 0, 1, 1, 1, 1, 1, 1, 1, 0, 0, 1, 1, 1, 1, 0, 0, 0, 1, 1, 0, 1, 0, 0.8]\n",
      "GA's end time is 2018-06-02 15:34:24.107300\n",
      "All time spends:  0:01:34.503406\n"
     ]
    }
   ],
   "source": [
    "#GA + regression ->main\n",
    "print(filename)\n",
    "import datetime\n",
    "#init parameter\n",
    "#filename='featured/0050_close.csv'\n",
    "iteration=60\n",
    "iteration_now=0\n",
    "population=100\n",
    "rank_number=10\n",
    "\n",
    "cross_rate=0.3\n",
    "mutation_rate=0.3\n",
    "\n",
    "y_target=20000#fitnessvalue的目標，到達就停止迭代\n",
    "y_best=-1#目前為止(所有迭代中)最好的fitnessvalue\n",
    "y_now=-1#當前此迭代中最好的fitnessvalue\n",
    "x_best=[]\n",
    "y_best_everyiteration=[]\n",
    "\n",
    "population_list=create_population(population)#產生初始母體染色體\n",
    "\n",
    "Totalstarttime=datetime.datetime.now()\n",
    "print(\"Start GA: \"+str(Totalstarttime))\n",
    "while(not(iteration_now>=iteration or y_best>y_target)):\n",
    "    iteration_now=iteration_now+1\n",
    "    print(\"\\niteration_now= \"+str(iteration_now))\n",
    "    Y=calculateY_rank(rank_number,population_list,filename) #return X_final(前15名的染色體) & best_result(此代最好的fitness跟染色體)\n",
    "    y_now=Y[1][0]\n",
    "    print(\"y_now= \"+str(y_now))\n",
    "    if y_now>y_best:\n",
    "        y_best=y_now\n",
    "        x_best=Y[1][1]\n",
    "        #print(\"x_best= \"+str(x_best))\n",
    "    print(\"y_best= \"+str(y_best))\n",
    "    y_best_everyiteration.append(y_best)\n",
    "    population_list=create_new_x(rank_number,population,cross_rate,mutation_rate,Y[0])\n",
    "\n",
    "print(\"iteration_now= \"+str(iteration_now))\n",
    "print(\"y_best= \"+str(y_best))\n",
    "print(\"x_best= \"+str(x_best))\n",
    "\n",
    "print(\"GA's end time is \"+str(datetime.datetime.now()))\n",
    "print(\"All time spends:  \"+str(datetime.datetime.now()-Totalstarttime))\n"
   ]
  },
  {
   "cell_type": "markdown",
   "metadata": {},
   "source": [
    "# GA 迭代圖"
   ]
  },
  {
   "cell_type": "code",
   "execution_count": 22,
   "metadata": {
    "scrolled": false
   },
   "outputs": [
    {
     "name": "stdout",
     "output_type": "stream",
     "text": [
      "featured/00692_close.csv\n"
     ]
    },
    {
     "data": {
      "image/png": "[encoded data removed]",
      "text/plain": [
       "<matplotlib.figure.Figure at 0x110a5eb8>"
      ]
     },
     "metadata": {},
     "output_type": "display_data"
    },
    {
     "name": "stdout",
     "output_type": "stream",
     "text": [
      "featured/00692_close.csv\n"
     ]
    }
   ],
   "source": [
    "import matplotlib.pyplot as plt\n",
    "print(filename)\n",
    "plt.plot(list(range(1,iteration+1)),y_best_everyiteration)\n",
    "plt.xlabel(\"GA_literation\")\n",
    "plt.ylabel(\"Logistic_Acc\")\n",
    "plt.show()\n",
    "print(filename)"
   ]
  },
  {
   "cell_type": "code",
   "execution_count": 22,
   "metadata": {
    "collapsed": true
   },
   "outputs": [],
   "source": [
    "plt.show()"
   ]
  },
  {
   "cell_type": "code",
   "execution_count": 69,
   "metadata": {},
   "outputs": [
    {
     "name": "stdout",
     "output_type": "stream",
     "text": [
      "[1, 2, 3, 4]\n"
     ]
    }
   ],
   "source": [
    "print(list(range(1,5)))"
   ]
  },
  {
   "cell_type": "markdown",
   "metadata": {},
   "source": [
    "# 圖_TRY"
   ]
  },
  {
   "cell_type": "code",
   "execution_count": 23,
   "metadata": {},
   "outputs": [
    {
     "name": "stdout",
     "output_type": "stream",
     "text": [
      "0.759608936216\n"
     ]
    }
   ],
   "source": [
    "#x_best= [0, 0, 1, 0, 0, 0, 0, 1, 0, 0, 0, 0, 1, 1, 0, 0, 0, 0, 0, 0, 0, 0, 1, 1, 1, 1, 1, 1, 0, 1, 1, 0, 0, 0, 0, 1, 0, 1, 0, 0, 0, 0, 1, 1, 0, 1, 1, 0, 1, 1, 1, 0, 0, 0, 1, 0, 0, 1, 0, 1, 1, 0, 0, 1, 0, 0, 0, 0, 0, 1, 1, 1, 0, 0, 0, 1, 0.7]\n",
    "chromsome=x_best\n",
    "#print(chromsome)\n",
    "\n",
    "ETF_train = pd.read_csv(filename)\n",
    "col_list=list(ETF_train.columns)\n",
    "\n",
    "traindata_rate=chromsome[len(col_list)-1]\n",
    "\n",
    "# 建立訓練與測試資料\n",
    "x_tmp=create_x_tmp(ETF_train,col_list,chromsome)\n",
    "ETF_X = pd.DataFrame(x_tmp).T\n",
    "ETF_Y = ETF_train[\"Y\"]\n",
    "\n",
    "train_X=ETF_X[:round(len(ETF_train)*traindata_rate)]\n",
    "test_X=ETF_X[round(len(ETF_train)*traindata_rate):]\n",
    "train_Y=ETF_Y[:round(len(ETF_train)*traindata_rate)]\n",
    "test_Y=ETF_Y[round(len(ETF_train)*traindata_rate):]\n",
    "\n",
    "lm=LinearRegression()\n",
    "lm.fit(train_X,train_Y)\n",
    "#模型績效(MSE & R^2)\n",
    "mse=np.mean((lm.predict(test_X)-test_Y)**2)\n",
    "R_squared=lm.score(test_X,test_Y)\n",
    "adj_r_squared = R_squared - (1 - R_squared) * (test_X.shape[1] / (test_X.shape[0] - test_X.shape[1] - 1))\n",
    "print(R_squared)"
   ]
  },
  {
   "cell_type": "code",
   "execution_count": 26,
   "metadata": {},
   "outputs": [
    {
     "data": {
      "image/png": "[encoded data removed]",
      "text/plain": [
       "<matplotlib.figure.Figure at 0xc42eac8>"
      ]
     },
     "metadata": {},
     "output_type": "display_data"
    },
    {
     "name": "stdout",
     "output_type": "stream",
     "text": [
      "[ 21.77939681  21.58604053  21.65027087  21.68938081  21.59885023\n",
      "  21.53674523  21.56707324  21.68815747  21.58260488  21.78954755\n",
      "  21.73271178  21.75631381  21.70183547  21.41216975  21.41860832\n",
      "  21.71748359  21.36593077  21.28766164  21.17076336  20.97102293\n",
      "  20.77417891  20.94314625  21.06896123  20.91336709  20.83770387\n",
      "  20.83715741  20.8344085   20.91334899  21.06177605  21.15787387\n",
      "  21.20268829  21.30283339  21.16399493  21.38592789  21.20501708\n",
      "  21.2240381   21.38349728  21.31181039]\n"
     ]
    }
   ],
   "source": [
    "y_pred=lm.predict(test_X)\n",
    "\n",
    "# for index in range(0,len(y_pred)-2):\n",
    "#     r=random.randint(0,len(y_pred)-1)\n",
    "#     y_pred[r]=y_pred[r]+random.uniform(-1, 1)\n",
    "# # print(r)\n",
    "# # for index in range(0,len(y_pred)):\n",
    "#     y_pred[index]=y_pred[index]+random.uniform(-1, 1)\n",
    "    \n",
    "#test_Y=test_Y+random.randint(0,1)\n",
    "#print(y_pred)\n",
    "y_test=test_Y\n",
    "plt.figure()\n",
    "plt.plot(range(len(y_pred)),y_pred,'b',label=\"Predict\")\n",
    "plt.plot(range(len(y_pred)),y_test,'r',label=\"Actual\")\n",
    "\n",
    "plt.legend(loc=\"lower right\") #顯示圖示中的標籤\n",
    "plt.xlabel(\"ClosePrice\")\n",
    "plt.ylabel('ClosePrice')\n",
    "plt.show()\n",
    "print(y_pred)"
   ]
  },
  {
   "cell_type": "code",
   "execution_count": 16,
   "metadata": {},
   "outputs": [
    {
     "data": {
      "text/plain": [
       "44"
      ]
     },
     "execution_count": 16,
     "metadata": {},
     "output_type": "execute_result"
    }
   ],
   "source": [
    "random.randint(0,99)"
   ]
  },
  {
   "cell_type": "code",
   "execution_count": null,
   "metadata": {
    "collapsed": true
   },
   "outputs": [],
   "source": []
  },
  {
   "cell_type": "code",
   "execution_count": 30,
   "metadata": {},
   "outputs": [
    {
     "data": {
      "image/png": "[encoded data removed]",
      "text/plain": [
       "<matplotlib.figure.Figure at 0x1134e748>"
      ]
     },
     "metadata": {},
     "output_type": "display_data"
    }
   ],
   "source": [
    "y_pred=lm.predict(test_X)\n",
    "y_test=test_Y\n",
    "plt.figure()\n",
    "plt.plot(range(len(y_pred)),y_pred,'b',label=\"Predict\")\n",
    "plt.plot(range(len(y_pred)),y_test,'r',label=\"Actual\")\n",
    "\n",
    "plt.legend(loc=\"lower right\") #顯示圖示中的標籤\n",
    "plt.xlabel(\"ClosePrice\")\n",
    "plt.ylabel('ClosePrice')\n",
    "plt.show()"
   ]
  }
 ],
 "metadata": {
  "kernelspec": {
   "display_name": "Python 3",
   "language": "python",
   "name": "python3"
  },
  "language_info": {
   "codemirror_mode": {
    "name": "ipython",
    "version": 3
   },
   "file_extension": ".py",
   "mimetype": "text/x-python",
   "name": "python",
   "nbconvert_exporter": "python",
   "pygments_lexer": "ipython3",
   "version": "3.6.3"
  }
 },
 "nbformat": 4,
 "nbformat_minor": 2
}
